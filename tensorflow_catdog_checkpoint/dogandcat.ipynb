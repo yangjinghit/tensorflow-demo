{
 "cells": [
  {
   "cell_type": "code",
   "execution_count": 1,
   "metadata": {},
   "outputs": [
    {
     "name": "stderr",
     "output_type": "stream",
     "text": [
      "/anaconda3/envs/py35/lib/python3.5/importlib/_bootstrap.py:222: RuntimeWarning: compiletime version 3.6 of module 'tensorflow.python.framework.fast_tensor_util' does not match runtime version 3.5\n",
      "  return f(*args, **kwds)\n",
      "/anaconda3/envs/py35/lib/python3.5/site-packages/h5py/__init__.py:36: FutureWarning: Conversion of the second argument of issubdtype from `float` to `np.floating` is deprecated. In future, it will be treated as `np.float64 == np.dtype(float).type`.\n",
      "  from ._conv import register_converters as _register_converters\n"
     ]
    }
   ],
   "source": [
    "import tensorflow as tf\n",
    "import glob\n",
    "import numpy as np"
   ]
  },
  {
   "cell_type": "code",
   "execution_count": 2,
   "metadata": {},
   "outputs": [],
   "source": [
    "image_filenames = glob.glob('./dc/train/*.jpg')"
   ]
  },
  {
   "cell_type": "code",
   "execution_count": 3,
   "metadata": {},
   "outputs": [
    {
     "ename": "IndexError",
     "evalue": "list index out of range",
     "output_type": "error",
     "traceback": [
      "\u001b[0;31m---------------------------------------------------------------------------\u001b[0m",
      "\u001b[0;31mIndexError\u001b[0m                                Traceback (most recent call last)",
      "\u001b[0;32m<ipython-input-3-1aa03117bdd7>\u001b[0m in \u001b[0;36m<module>\u001b[0;34m()\u001b[0m\n\u001b[0;32m----> 1\u001b[0;31m \u001b[0mimage_filenames\u001b[0m\u001b[0;34m[\u001b[0m\u001b[0;36m0\u001b[0m\u001b[0;34m]\u001b[0m\u001b[0;34m\u001b[0m\u001b[0m\n\u001b[0m",
      "\u001b[0;31mIndexError\u001b[0m: list index out of range"
     ]
    }
   ],
   "source": [
    "image_filenames[0]"
   ]
  },
  {
   "cell_type": "code",
   "execution_count": null,
   "metadata": {},
   "outputs": [],
   "source": [
    "lables = list(map(lambda x : x.split('\\\\')[1].split('.')[0], image_filenames))"
   ]
  },
  {
   "cell_type": "code",
   "execution_count": null,
   "metadata": {},
   "outputs": [],
   "source": [
    "train_lable = [[1, 0] if x == 'cat' else [0, 1] for x in lables]"
   ]
  },
  {
   "cell_type": "code",
   "execution_count": null,
   "metadata": {},
   "outputs": [],
   "source": [
    "image_que = tf.train.slice_input_producer([image_filenames, train_lable])"
   ]
  },
  {
   "cell_type": "code",
   "execution_count": null,
   "metadata": {},
   "outputs": [],
   "source": [
    "image_ = tf.read_file(image_que[0])\n",
    "image = tf.image.decode_jpeg(image_, channels = 3)\n"
   ]
  },
  {
   "cell_type": "code",
   "execution_count": null,
   "metadata": {},
   "outputs": [],
   "source": [
    "grey_image = tf.image.rgb_to_grayscale(image)\n",
    "resize_image = tf.image_resize_images(grey_image, (200, 200))\n",
    "resize_image = tf.reshape(resize_image, [200, 200, 1])"
   ]
  },
  {
   "cell_type": "code",
   "execution_count": null,
   "metadata": {},
   "outputs": [],
   "source": [
    "new_img = tf.image.per_image_standardization(resize_image)"
   ]
  },
  {
   "cell_type": "code",
   "execution_count": null,
   "metadata": {},
   "outputs": [],
   "source": [
    "batch_size = 60\n",
    "capacity = 10 + 2 * batch_size"
   ]
  },
  {
   "cell_type": "code",
   "execution_count": null,
   "metadata": {},
   "outputs": [],
   "source": [
    "image_batch, lable_batch = tf.train.batch([new_img, image_que[1]], batch_size=batch_size, capacity=capacity)"
   ]
  },
  {
   "cell_type": "code",
   "execution_count": null,
   "metadata": {},
   "outputs": [],
   "source": [
    "lable_batch.get_shape()"
   ]
  },
  {
   "cell_type": "code",
   "execution_count": null,
   "metadata": {},
   "outputs": [],
   "source": [
    "conv2d_1 = tf.contrib.layers.convolution2d(\n",
    "    image_batch,\n",
    "    num_outputs=32,\n",
    "    weights_initializer = tf.truncated_normal_initializer(stddev=0.001),\n",
    "    kernel_size = (5,5),\n",
    "    activation_fn = tf.nn.relu,\n",
    "    stride = (1,1),\n",
    "    padding = 'SAME',\n",
    "    trainable = True)\n",
    "pool_1 = tf.nn.max_pool(conv2d_1,\n",
    "                       ksize = [1,3,3,1],\n",
    "                       strides = [1,2,2,1],\n",
    "                       padding='SAME')"
   ]
  },
  {
   "cell_type": "code",
   "execution_count": null,
   "metadata": {},
   "outputs": [],
   "source": [
    "conv2d_2 = tf.contrib.layers.convolution2d(\n",
    "    pool_1,\n",
    "    num_outputs=32,\n",
    "    weights_initializer = tf.truncated_normal_initializer(stddev=0.01),\n",
    "    kernel_size = (5,5),\n",
    "    activation_fn = tf.nn.relu,\n",
    "    stride = (1,1),\n",
    "    padding = 'SAME',\n",
    "    trainable = True)\n",
    "pool_2 = tf.nn.max_pool(conv2d_2,\n",
    "                       ksize = [1,3,3,1],\n",
    "                       strides = [1,2,2,1],\n",
    "                       padding='SAME')"
   ]
  },
  {
   "cell_type": "code",
   "execution_count": null,
   "metadata": {},
   "outputs": [],
   "source": [
    "conv2d_3 = tf.contrib.layers.convolution2d(\n",
    "    pool_2,\n",
    "    num_outputs=64,\n",
    "    weights_initializer = tf.truncated_normal_initializer(stddev=0.01),\n",
    "    kernel_size = (5,5),\n",
    "    activation_fn = tf.nn.relu,\n",
    "    stride = (1,1),\n",
    "    padding = 'SAME',\n",
    "    trainable = True)\n",
    "pool_3 = tf.nn.max_pool(conv2d_3,\n",
    "                       ksize = [1,3,3,1],\n",
    "                       strides = [1,2,2,1],\n",
    "                       padding='SAME')"
   ]
  },
  {
   "cell_type": "code",
   "execution_count": null,
   "metadata": {},
   "outputs": [],
   "source": [
    "pool_3.get_shape()"
   ]
  },
  {
   "cell_type": "code",
   "execution_count": null,
   "metadata": {},
   "outputs": [],
   "source": [
    "pool3_flat = tf.reshape(pool_3, [-1, 25*25*64])\n",
    "fc_1 = tf.contrib.layers.fully_connected(\n",
    "                            pool3_flat, \n",
    "                            1024, \n",
    "                            weights_initializer = tf.truncated_normal_initializer(stddev=0.1),\n",
    "                            activation_fn = tf.nn.relu)"
   ]
  },
  {
   "cell_type": "code",
   "execution_count": null,
   "metadata": {},
   "outputs": [],
   "source": [
    "fc_2 = tf.contrib.layers.fully_connected(\n",
    "                            fc_1, \n",
    "                            192, \n",
    "                            weights_initializer = tf.truncated_normal_initializer(stddev=0.1),\n",
    "                            activation_fn = tf.nn.relu)"
   ]
  },
  {
   "cell_type": "code",
   "execution_count": null,
   "metadata": {},
   "outputs": [],
   "source": [
    "out_wl = tf.Variable(tf.truncated_normal([192, 2]))\n",
    "out_bl = tf.Variable(tf.truncated_normal([2]))\n",
    "comb_out = tf.matmul(fc_2, out_wl) + out_bl\n",
    "pred = tf.sigmoid(comb_out)"
   ]
  },
  {
   "cell_type": "code",
   "execution_count": null,
   "metadata": {},
   "outputs": [],
   "source": [
    "pred.get_shape()"
   ]
  },
  {
   "cell_type": "code",
   "execution_count": null,
   "metadata": {},
   "outputs": [],
   "source": [
    "lable_batch.get_shape()"
   ]
  },
  {
   "cell_type": "code",
   "execution_count": null,
   "metadata": {},
   "outputs": [],
   "source": [
    "lable_batch = tf.cast(lable_batch, tf.float32)"
   ]
  },
  {
   "cell_type": "code",
   "execution_count": null,
   "metadata": {},
   "outputs": [],
   "source": [
    "loss = tf.reduce_mean(tf.nn.sigmoid_cross_entropy_with_logits(labels = lable_batch, logits = comb_out))"
   ]
  },
  {
   "cell_type": "code",
   "execution_count": null,
   "metadata": {},
   "outputs": [],
   "source": [
    "train_step = tf.train.AdamOptimizer(0.0001).minimize(loss)"
   ]
  },
  {
   "cell_type": "code",
   "execution_count": null,
   "metadata": {},
   "outputs": [],
   "source": [
    "predicted = tf.cast(pred >0.5, tf.float32)\n",
    "accuracy = tf.reduce_mean(tf.cast(tf.equal(predicted, lable_batch), tf.float32))"
   ]
  },
  {
   "cell_type": "code",
   "execution_count": null,
   "metadata": {},
   "outputs": [],
   "source": [
    "saver = tf.train.Saver()\n",
    "with tf.Session() as sess:\n",
    "    coord = tf.train.Coordinator()\n",
    "    threads = tf.train.start_queue_runners(coord = coord)\n",
    "    sess.run(tf.global_variables_initializer())\n",
    "    for step in range(0, 3000):\n",
    "        sess.run(train_step)\n",
    "        if(step %100 == 0):\n",
    "            res = sess.run([loss, accuracy])\n",
    "            print(step, res)\n",
    "            saver.save(sess, './lesson30', global_step = step)\n",
    "    coord.request_stop()\n",
    "    coord.join(threads)"
   ]
  },
  {
   "cell_type": "code",
   "execution_count": null,
   "metadata": {},
   "outputs": [],
   "source": []
  },
  {
   "cell_type": "markdown",
   "metadata": {},
   "source": [
    "恢复检查点"
   ]
  },
  {
   "cell_type": "code",
   "execution_count": null,
   "metadata": {},
   "outputs": [],
   "source": [
    "#import os\n",
    "#ckpt = tf.train_get_checkpoint_state(os.path.dirname('__file__'))\n",
    "#saver = tf.train.Saver()\n",
    "#sess = tf.Session()\n",
    "#sess.run(tf.global_variables_initializer())\n",
    "#saver.restore(sess, ckpt.model_checkpoint_path)"
   ]
  },
  {
   "cell_type": "code",
   "execution_count": null,
   "metadata": {},
   "outputs": [],
   "source": []
  },
  {
   "cell_type": "code",
   "execution_count": null,
   "metadata": {},
   "outputs": [],
   "source": [
    "#coord = tf.train.Coordinator()\n",
    "#threads = tf.train.start_queue_runners(coord = coord)\n",
    "#for step in range(6000, 7000):\n",
    "#        sess.run(train_step, feed_dict={keep_prob:0.5})\n",
    "#        if(step %100 == 0):\n",
    "#            res = sess.run([loss, accuracy], feed_dict={keep_prob:1})\n",
    "#            print(step, res)\n",
    "#            saver.save(sess, './lesson30', global_step = step)\n",
    "#coord.request_stop()\n",
    "#coord.join(threads)"
   ]
  }
 ],
 "metadata": {
  "kernelspec": {
   "display_name": "Python 3",
   "language": "python",
   "name": "python3"
  },
  "language_info": {
   "codemirror_mode": {
    "name": "ipython",
    "version": 3
   },
   "file_extension": ".py",
   "mimetype": "text/x-python",
   "name": "python",
   "nbconvert_exporter": "python",
   "pygments_lexer": "ipython3",
   "version": "3.5.4"
  }
 },
 "nbformat": 4,
 "nbformat_minor": 2
}
