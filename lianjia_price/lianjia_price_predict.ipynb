{
 "cells": [
  {
   "cell_type": "code",
   "execution_count": 34,
   "metadata": {},
   "outputs": [],
   "source": [
    "import pandas as pd\n",
    "import numpy as np\n",
    "import matplotlib.pyplot as plt\n",
    "%matplotlib inline"
   ]
  },
  {
   "cell_type": "code",
   "execution_count": 35,
   "metadata": {},
   "outputs": [],
   "source": [
    "data1 = pd.read_csv('lianjia1.csv', encoding='gbk')\n",
    "data2 = pd.read_csv('lianjia2.csv', encoding='gbk')\n",
    "data3 = pd.read_csv('lianjia3.csv', encoding='utf-8')\n",
    "data4 = pd.read_csv('lianjia4.csv', encoding='utf-8')\n",
    "data5 = pd.read_csv('lianjia5.csv', encoding='utf-8')\n",
    "data6 = pd.read_csv('lianjia6.csv', encoding='utf-8')\n",
    "data7 = pd.read_csv('lianjia7.csv', encoding='utf-8')"
   ]
  },
  {
   "cell_type": "code",
   "execution_count": 36,
   "metadata": {},
   "outputs": [],
   "source": [
    "data = pd.concat([data1, data2, data3, data4, data5,data6,data7])"
   ]
  },
  {
   "cell_type": "code",
   "execution_count": 37,
   "metadata": {},
   "outputs": [
    {
     "data": {
      "text/plain": [
       "162227"
      ]
     },
     "execution_count": 37,
     "metadata": {},
     "output_type": "execute_result"
    }
   ],
   "source": [
    "len(data)"
   ]
  },
  {
   "cell_type": "code",
   "execution_count": 38,
   "metadata": {},
   "outputs": [],
   "source": [
    "data = data.dropna()"
   ]
  },
  {
   "cell_type": "code",
   "execution_count": 39,
   "metadata": {},
   "outputs": [
    {
     "data": {
      "text/plain": [
       "144531"
      ]
     },
     "execution_count": 39,
     "metadata": {},
     "output_type": "execute_result"
    }
   ],
   "source": [
    "len(data)"
   ]
  },
  {
   "cell_type": "code",
   "execution_count": 40,
   "metadata": {},
   "outputs": [],
   "source": [
    "data.cjdanjia = np.round(data.cjdanjia.str.replace('元/平','').astype(np.float32).map(lambda x: x/10000), 2)"
   ]
  },
  {
   "cell_type": "code",
   "execution_count": 41,
   "metadata": {},
   "outputs": [],
   "source": [
    "data.cjshijian = pd.to_datetime(data.cjshijian.map(lambda x :x[5:]))"
   ]
  },
  {
   "cell_type": "code",
   "execution_count": 42,
   "metadata": {},
   "outputs": [],
   "source": [
    "data = data[data.cjxiaoqu.str.contains('远洋山水')]"
   ]
  },
  {
   "cell_type": "code",
   "execution_count": 43,
   "metadata": {},
   "outputs": [],
   "source": [
    "data = data.sort_values(by='cjshijian')"
   ]
  },
  {
   "cell_type": "code",
   "execution_count": 44,
   "metadata": {},
   "outputs": [],
   "source": [
    "data.set_index('cjshijian', inplace=True)"
   ]
  },
  {
   "cell_type": "code",
   "execution_count": 45,
   "metadata": {},
   "outputs": [],
   "source": [
    "data = data['2012':]"
   ]
  },
  {
   "cell_type": "code",
   "execution_count": 30,
   "metadata": {},
   "outputs": [],
   "source": [
    "#data.set_index('cjshijian',inplace=True)['2012':]"
   ]
  },
  {
   "cell_type": "code",
   "execution_count": 46,
   "metadata": {},
   "outputs": [],
   "source": [
    "data = data[data.cjdanjia > 1]"
   ]
  },
  {
   "cell_type": "code",
   "execution_count": 47,
   "metadata": {},
   "outputs": [
    {
     "data": {
      "text/html": [
       "<div>\n",
       "<style scoped>\n",
       "    .dataframe tbody tr th:only-of-type {\n",
       "        vertical-align: middle;\n",
       "    }\n",
       "\n",
       "    .dataframe tbody tr th {\n",
       "        vertical-align: top;\n",
       "    }\n",
       "\n",
       "    .dataframe thead th {\n",
       "        text-align: right;\n",
       "    }\n",
       "</style>\n",
       "<table border=\"1\" class=\"dataframe\">\n",
       "  <thead>\n",
       "    <tr style=\"text-align: right;\">\n",
       "      <th></th>\n",
       "      <th>cjtaoshu</th>\n",
       "      <th>mendian</th>\n",
       "      <th>cjzongjia</th>\n",
       "      <th>zhiwei</th>\n",
       "      <th>haoping</th>\n",
       "      <th>cjdanjia</th>\n",
       "      <th>cjxiaoqu</th>\n",
       "      <th>xingming</th>\n",
       "      <th>cjzhouqi</th>\n",
       "      <th>biaoqian</th>\n",
       "      <th>cjlouceng</th>\n",
       "      <th>congyenianxian</th>\n",
       "      <th>bankuai</th>\n",
       "    </tr>\n",
       "    <tr>\n",
       "      <th>cjshijian</th>\n",
       "      <th></th>\n",
       "      <th></th>\n",
       "      <th></th>\n",
       "      <th></th>\n",
       "      <th></th>\n",
       "      <th></th>\n",
       "      <th></th>\n",
       "      <th></th>\n",
       "      <th></th>\n",
       "      <th></th>\n",
       "      <th></th>\n",
       "      <th></th>\n",
       "      <th></th>\n",
       "    </tr>\n",
       "  </thead>\n",
       "  <tbody>\n",
       "    <tr>\n",
       "      <th>2012-01-07</th>\n",
       "      <td>32</td>\n",
       "      <td>远洋山水中街店</td>\n",
       "      <td>180.0</td>\n",
       "      <td>店经理</td>\n",
       "      <td>99% 122</td>\n",
       "      <td>2.54</td>\n",
       "      <td>远洋山水 1室1厅 70平</td>\n",
       "      <td>卢德强</td>\n",
       "      <td>28</td>\n",
       "      <td>房东信赖;销售达人;带看活跃;海外顾问</td>\n",
       "      <td>西/中楼层/26层</td>\n",
       "      <td>5年以上</td>\n",
       "      <td>鲁谷</td>\n",
       "    </tr>\n",
       "    <tr>\n",
       "      <th>2012-01-07</th>\n",
       "      <td>32</td>\n",
       "      <td>远洋山水中街店</td>\n",
       "      <td>180.0</td>\n",
       "      <td>店经理</td>\n",
       "      <td>99% 122</td>\n",
       "      <td>2.54</td>\n",
       "      <td>远洋山水 1室1厅 70平</td>\n",
       "      <td>卢德强</td>\n",
       "      <td>28</td>\n",
       "      <td>房东信赖;销售达人;带看活跃;海外顾问</td>\n",
       "      <td>西/中楼层/26层</td>\n",
       "      <td>5年以上</td>\n",
       "      <td>鲁谷</td>\n",
       "    </tr>\n",
       "    <tr>\n",
       "      <th>2012-02-13</th>\n",
       "      <td>42</td>\n",
       "      <td>远洋山水中街店</td>\n",
       "      <td>235.0</td>\n",
       "      <td>店经理</td>\n",
       "      <td>95% 134</td>\n",
       "      <td>2.22</td>\n",
       "      <td>远洋山水 2室2厅 105平</td>\n",
       "      <td>乔璐璐</td>\n",
       "      <td>72</td>\n",
       "      <td>房东信赖;销售达人</td>\n",
       "      <td>南/中楼层/24层</td>\n",
       "      <td>5年以上</td>\n",
       "      <td>鲁谷</td>\n",
       "    </tr>\n",
       "  </tbody>\n",
       "</table>\n",
       "</div>"
      ],
      "text/plain": [
       "            cjtaoshu  mendian  cjzongjia zhiwei  haoping  cjdanjia  \\\n",
       "cjshijian                                                            \n",
       "2012-01-07        32  远洋山水中街店      180.0    店经理  99% 122      2.54   \n",
       "2012-01-07        32  远洋山水中街店      180.0    店经理  99% 122      2.54   \n",
       "2012-02-13        42  远洋山水中街店      235.0    店经理  95% 134      2.22   \n",
       "\n",
       "                  cjxiaoqu xingming cjzhouqi             biaoqian  cjlouceng  \\\n",
       "cjshijian                                                                      \n",
       "2012-01-07   远洋山水 1室1厅 70平      卢德强       28  房东信赖;销售达人;带看活跃;海外顾问  西/中楼层/26层   \n",
       "2012-01-07   远洋山水 1室1厅 70平      卢德强       28  房东信赖;销售达人;带看活跃;海外顾问  西/中楼层/26层   \n",
       "2012-02-13  远洋山水 2室2厅 105平      乔璐璐       72            房东信赖;销售达人  南/中楼层/24层   \n",
       "\n",
       "           congyenianxian bankuai  \n",
       "cjshijian                          \n",
       "2012-01-07           5年以上      鲁谷  \n",
       "2012-01-07           5年以上      鲁谷  \n",
       "2012-02-13           5年以上      鲁谷  "
      ]
     },
     "execution_count": 47,
     "metadata": {},
     "output_type": "execute_result"
    }
   ],
   "source": [
    "data.head(3)"
   ]
  },
  {
   "cell_type": "code",
   "execution_count": 48,
   "metadata": {},
   "outputs": [],
   "source": [
    "data = data.assign(time = (data.index - pd.to_datetime('2012-01-01')).days)"
   ]
  },
  {
   "cell_type": "code",
   "execution_count": 49,
   "metadata": {},
   "outputs": [],
   "source": [
    "data = data[['time', 'cjdanjia']]"
   ]
  },
  {
   "cell_type": "code",
   "execution_count": 50,
   "metadata": {},
   "outputs": [
    {
     "data": {
      "text/html": [
       "<div>\n",
       "<style scoped>\n",
       "    .dataframe tbody tr th:only-of-type {\n",
       "        vertical-align: middle;\n",
       "    }\n",
       "\n",
       "    .dataframe tbody tr th {\n",
       "        vertical-align: top;\n",
       "    }\n",
       "\n",
       "    .dataframe thead th {\n",
       "        text-align: right;\n",
       "    }\n",
       "</style>\n",
       "<table border=\"1\" class=\"dataframe\">\n",
       "  <thead>\n",
       "    <tr style=\"text-align: right;\">\n",
       "      <th></th>\n",
       "      <th>time</th>\n",
       "      <th>cjdanjia</th>\n",
       "    </tr>\n",
       "    <tr>\n",
       "      <th>cjshijian</th>\n",
       "      <th></th>\n",
       "      <th></th>\n",
       "    </tr>\n",
       "  </thead>\n",
       "  <tbody>\n",
       "    <tr>\n",
       "      <th>2012-01-07</th>\n",
       "      <td>6</td>\n",
       "      <td>2.54</td>\n",
       "    </tr>\n",
       "    <tr>\n",
       "      <th>2012-01-07</th>\n",
       "      <td>6</td>\n",
       "      <td>2.54</td>\n",
       "    </tr>\n",
       "    <tr>\n",
       "      <th>2012-02-13</th>\n",
       "      <td>43</td>\n",
       "      <td>2.22</td>\n",
       "    </tr>\n",
       "    <tr>\n",
       "      <th>2012-02-15</th>\n",
       "      <td>45</td>\n",
       "      <td>2.06</td>\n",
       "    </tr>\n",
       "    <tr>\n",
       "      <th>2012-02-19</th>\n",
       "      <td>49</td>\n",
       "      <td>2.23</td>\n",
       "    </tr>\n",
       "  </tbody>\n",
       "</table>\n",
       "</div>"
      ],
      "text/plain": [
       "            time  cjdanjia\n",
       "cjshijian                 \n",
       "2012-01-07     6      2.54\n",
       "2012-01-07     6      2.54\n",
       "2012-02-13    43      2.22\n",
       "2012-02-15    45      2.06\n",
       "2012-02-19    49      2.23"
      ]
     },
     "execution_count": 50,
     "metadata": {},
     "output_type": "execute_result"
    }
   ],
   "source": [
    "data.head(5)"
   ]
  },
  {
   "cell_type": "code",
   "execution_count": 51,
   "metadata": {},
   "outputs": [
    {
     "data": {
      "text/plain": [
       "<matplotlib.collections.PathCollection at 0x119fcb7f0>"
      ]
     },
     "execution_count": 51,
     "metadata": {},
     "output_type": "execute_result"
    },
    {
     "data": {
      "image/png": "[encoded data removed]",
      "text/plain": [
       "<matplotlib.figure.Figure at 0x11a9e5fd0>"
      ]
     },
     "metadata": {},
     "output_type": "display_data"
    }
   ],
   "source": [
    "plt.scatter(data.time, data.cjdanjia)"
   ]
  },
  {
   "cell_type": "code",
   "execution_count": 52,
   "metadata": {},
   "outputs": [],
   "source": [
    "X = data.time\n",
    "Y = data.cjdanjia"
   ]
  },
  {
   "cell_type": "code",
   "execution_count": 53,
   "metadata": {},
   "outputs": [],
   "source": [
    "from sklearn.linear_model import LinearRegression"
   ]
  },
  {
   "cell_type": "markdown",
   "metadata": {},
   "source": [
    "model = LinearRegression()\n",
    "model.fit(pd.DataFrame(X), Y)"
   ]
  },
  {
   "cell_type": "code",
   "execution_count": 54,
   "metadata": {},
   "outputs": [
    {
     "data": {
      "text/plain": [
       "LinearRegression(copy_X=True, fit_intercept=True, n_jobs=1, normalize=False)"
      ]
     },
     "execution_count": 54,
     "metadata": {},
     "output_type": "execute_result"
    }
   ],
   "source": [
    "model = LinearRegression() \n",
    "model.fit(pd.DataFrame(X), Y)"
   ]
  },
  {
   "cell_type": "code",
   "execution_count": 55,
   "metadata": {},
   "outputs": [
    {
     "data": {
      "text/plain": [
       "<matplotlib.collections.PathCollection at 0x12068e400>"
      ]
     },
     "execution_count": 55,
     "metadata": {},
     "output_type": "execute_result"
    },
    {
     "data": {
      "image/png": "[encoded data removed]",
      "text/plain": [
       "<matplotlib.figure.Figure at 0x12067fd30>"
      ]
     },
     "metadata": {},
     "output_type": "display_data"
    }
   ],
   "source": [
    "x = [[0], [1800]]\n",
    "y = model.predict(pd.DataFrame(x))\n",
    "plt.figure(figsize = (10, 8))\n",
    "plt.plot(x, y)\n",
    "plt.scatter(data.time, data.cjdanjia)"
   ]
  },
  {
   "cell_type": "code",
   "execution_count": 56,
   "metadata": {},
   "outputs": [
    {
     "data": {
      "text/plain": [
       "LinearRegression(copy_X=True, fit_intercept=True, n_jobs=1, normalize=False)"
      ]
     },
     "execution_count": 56,
     "metadata": {},
     "output_type": "execute_result"
    }
   ],
   "source": [
    "model2 = LinearRegression()\n",
    "model2.fit(pd.DataFrame({'x2': X*X, 'x1':X}), Y)"
   ]
  },
  {
   "cell_type": "code",
   "execution_count": 57,
   "metadata": {},
   "outputs": [
    {
     "data": {
      "text/plain": [
       "<matplotlib.collections.PathCollection at 0x10f357198>"
      ]
     },
     "execution_count": 57,
     "metadata": {},
     "output_type": "execute_result"
    },
    {
     "data": {
      "image/png": "[encoded data removed]",
      "text/plain": [
       "<matplotlib.figure.Figure at 0x119f56940>"
      ]
     },
     "metadata": {},
     "output_type": "display_data"
    }
   ],
   "source": [
    "x = np.linspace(0, 1800)\n",
    "y = model2.predict(pd.DataFrame({'x2': x*x, 'x1':x}))\n",
    "plt.figure(figsize=(10,8))\n",
    "plt.plot(x,y,color='r')\n",
    "plt.scatter(data.time, data.cjdanjia)"
   ]
  },
  {
   "cell_type": "code",
   "execution_count": 58,
   "metadata": {},
   "outputs": [],
   "source": [
    "from sklearn.preprocessing import PolynomialFeatures"
   ]
  },
  {
   "cell_type": "code",
   "execution_count": 59,
   "metadata": {},
   "outputs": [],
   "source": [
    "q3 = PolynomialFeatures(degree=3)"
   ]
  },
  {
   "cell_type": "code",
   "execution_count": 60,
   "metadata": {},
   "outputs": [],
   "source": [
    "X3 = q3.fit_transform(pd.DataFrame(X))"
   ]
  },
  {
   "cell_type": "code",
   "execution_count": 61,
   "metadata": {},
   "outputs": [
    {
     "data": {
      "text/plain": [
       "LinearRegression(copy_X=True, fit_intercept=True, n_jobs=1, normalize=False)"
      ]
     },
     "execution_count": 61,
     "metadata": {},
     "output_type": "execute_result"
    }
   ],
   "source": [
    "model3 = LinearRegression()\n",
    "model3.fit(X3, Y)"
   ]
  },
  {
   "cell_type": "code",
   "execution_count": 62,
   "metadata": {},
   "outputs": [
    {
     "data": {
      "text/plain": [
       "<matplotlib.collections.PathCollection at 0x11002f860>"
      ]
     },
     "execution_count": 62,
     "metadata": {},
     "output_type": "execute_result"
    },
    {
     "data": {
      "image/png": "[encoded data removed]",
      "text/plain": [
       "<matplotlib.figure.Figure at 0x10cf4c470>"
      ]
     },
     "metadata": {},
     "output_type": "display_data"
    }
   ],
   "source": [
    "x = np.linspace(0, 1800)\n",
    "x_ = q3.fit_transform(pd.DataFrame(x))\n",
    "y = model3.predict(x_)\n",
    "plt.figure(figsize=(10,8))\n",
    "plt.plot(x,y,color='r')\n",
    "plt.scatter(data.time, data.cjdanjia)"
   ]
  },
  {
   "cell_type": "code",
   "execution_count": null,
   "metadata": {},
   "outputs": [],
   "source": []
  },
  {
   "cell_type": "code",
   "execution_count": null,
   "metadata": {},
   "outputs": [],
   "source": []
  }
 ],
 "metadata": {
  "kernelspec": {
   "display_name": "Python 3",
   "language": "python",
   "name": "python3"
  },
  "language_info": {
   "codemirror_mode": {
    "name": "ipython",
    "version": 3
   },
   "file_extension": ".py",
   "mimetype": "text/x-python",
   "name": "python",
   "nbconvert_exporter": "python",
   "pygments_lexer": "ipython3",
   "version": "3.5.4"
  }
 },
 "nbformat": 4,
 "nbformat_minor": 2
}
