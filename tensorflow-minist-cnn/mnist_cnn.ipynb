{
 "cells": [
  {
   "cell_type": "code",
   "execution_count": 1,
   "metadata": {},
   "outputs": [
    {
     "name": "stderr",
     "output_type": "stream",
     "text": [
      "/anaconda3/envs/py35/lib/python3.5/importlib/_bootstrap.py:222: RuntimeWarning: compiletime version 3.6 of module 'tensorflow.python.framework.fast_tensor_util' does not match runtime version 3.5\n",
      "  return f(*args, **kwds)\n",
      "/anaconda3/envs/py35/lib/python3.5/site-packages/h5py/__init__.py:36: FutureWarning: Conversion of the second argument of issubdtype from `float` to `np.floating` is deprecated. In future, it will be treated as `np.float64 == np.dtype(float).type`.\n",
      "  from ._conv import register_converters as _register_converters\n"
     ]
    }
   ],
   "source": [
    "import numpy as np\n",
    "import tensorflow as tf"
   ]
  },
  {
   "cell_type": "code",
   "execution_count": 2,
   "metadata": {},
   "outputs": [
    {
     "name": "stdout",
     "output_type": "stream",
     "text": [
      "Extracting MNIST_data/train-images-idx3-ubyte.gz\n",
      "Extracting MNIST_data/train-labels-idx1-ubyte.gz\n",
      "Extracting MNIST_data/t10k-images-idx3-ubyte.gz\n",
      "Extracting MNIST_data/t10k-labels-idx1-ubyte.gz\n"
     ]
    }
   ],
   "source": [
    "from tensorflow.examples.tutorials.mnist import input_data\n",
    "mnist = input_data.read_data_sets(\"MNIST_data/\", one_hot = True)"
   ]
  },
  {
   "cell_type": "code",
   "execution_count": 3,
   "metadata": {},
   "outputs": [
    {
     "data": {
      "text/plain": [
       "(55000, 55000)"
      ]
     },
     "execution_count": 3,
     "metadata": {},
     "output_type": "execute_result"
    }
   ],
   "source": [
    "len(mnist.train.images), len(mnist.train.labels)"
   ]
  },
  {
   "cell_type": "code",
   "execution_count": 4,
   "metadata": {},
   "outputs": [
    {
     "data": {
      "text/plain": [
       "(10000, 10000)"
      ]
     },
     "execution_count": 4,
     "metadata": {},
     "output_type": "execute_result"
    }
   ],
   "source": [
    "len(mnist.test.images), len(mnist.test.labels)"
   ]
  },
  {
   "cell_type": "code",
   "execution_count": 5,
   "metadata": {},
   "outputs": [
    {
     "data": {
      "text/plain": [
       "array([0.        , 0.        , 0.        , 0.        , 0.        ,\n",
       "       0.        , 0.        , 0.        , 0.        , 0.        ,\n",
       "       0.        , 0.        , 0.        , 0.        , 0.        ,\n",
       "       0.        , 0.        , 0.        , 0.        , 0.        ,\n",
       "       0.        , 0.        , 0.        , 0.        , 0.        ,\n",
       "       0.        , 0.        , 0.        , 0.        , 0.        ,\n",
       "       0.        , 0.        , 0.        , 0.        , 0.        ,\n",
       "       0.        , 0.        , 0.        , 0.        , 0.        ,\n",
       "       0.        , 0.        , 0.        , 0.        , 0.        ,\n",
       "       0.        , 0.        , 0.        , 0.        , 0.        ,\n",
       "       0.        , 0.        , 0.        , 0.        , 0.        ,\n",
       "       0.        , 0.        , 0.        , 0.        , 0.        ,\n",
       "       0.        , 0.        , 0.        , 0.        , 0.        ,\n",
       "       0.        , 0.        , 0.        , 0.        , 0.        ,\n",
       "       0.        , 0.        , 0.        , 0.        , 0.        ,\n",
       "       0.        , 0.        , 0.        , 0.        , 0.        ,\n",
       "       0.        , 0.        , 0.        , 0.        , 0.        ,\n",
       "       0.        , 0.        , 0.        , 0.        , 0.        ,\n",
       "       0.        , 0.        , 0.        , 0.        , 0.        ,\n",
       "       0.        , 0.        , 0.        , 0.        , 0.        ,\n",
       "       0.        , 0.        , 0.        , 0.        , 0.        ,\n",
       "       0.        , 0.        , 0.        , 0.        , 0.        ,\n",
       "       0.        , 0.        , 0.        , 0.        , 0.        ,\n",
       "       0.        , 0.        , 0.        , 0.        , 0.        ,\n",
       "       0.        , 0.        , 0.        , 0.        , 0.        ,\n",
       "       0.        , 0.        , 0.        , 0.        , 0.        ,\n",
       "       0.        , 0.        , 0.        , 0.        , 0.        ,\n",
       "       0.        , 0.        , 0.        , 0.        , 0.        ,\n",
       "       0.        , 0.        , 0.        , 0.        , 0.        ,\n",
       "       0.        , 0.        , 0.        , 0.        , 0.        ,\n",
       "       0.        , 0.        , 0.        , 0.        , 0.        ,\n",
       "       0.        , 0.        , 0.        , 0.        , 0.        ,\n",
       "       0.        , 0.        , 0.        , 0.        , 0.        ,\n",
       "       0.        , 0.        , 0.        , 0.        , 0.        ,\n",
       "       0.        , 0.        , 0.        , 0.        , 0.        ,\n",
       "       0.        , 0.        , 0.        , 0.        , 0.        ,\n",
       "       0.        , 0.        , 0.        , 0.        , 0.        ,\n",
       "       0.        , 0.        , 0.        , 0.        , 0.        ,\n",
       "       0.        , 0.        , 0.        , 0.        , 0.        ,\n",
       "       0.        , 0.        , 0.        , 0.        , 0.        ,\n",
       "       0.        , 0.        , 0.        , 0.        , 0.        ,\n",
       "       0.        , 0.        , 0.3803922 , 0.37647063, 0.3019608 ,\n",
       "       0.46274513, 0.2392157 , 0.        , 0.        , 0.        ,\n",
       "       0.        , 0.        , 0.        , 0.        , 0.        ,\n",
       "       0.        , 0.        , 0.        , 0.        , 0.        ,\n",
       "       0.        , 0.        , 0.3529412 , 0.5411765 , 0.9215687 ,\n",
       "       0.9215687 , 0.9215687 , 0.9215687 , 0.9215687 , 0.9215687 ,\n",
       "       0.9843138 , 0.9843138 , 0.9725491 , 0.9960785 , 0.9607844 ,\n",
       "       0.9215687 , 0.74509805, 0.08235294, 0.        , 0.        ,\n",
       "       0.        , 0.        , 0.        , 0.        , 0.        ,\n",
       "       0.        , 0.        , 0.        , 0.        , 0.54901963,\n",
       "       0.9843138 , 0.9960785 , 0.9960785 , 0.9960785 , 0.9960785 ,\n",
       "       0.9960785 , 0.9960785 , 0.9960785 , 0.9960785 , 0.9960785 ,\n",
       "       0.9960785 , 0.9960785 , 0.9960785 , 0.9960785 , 0.9960785 ,\n",
       "       0.7411765 , 0.09019608, 0.        , 0.        , 0.        ,\n",
       "       0.        , 0.        , 0.        , 0.        , 0.        ,\n",
       "       0.        , 0.        , 0.8862746 , 0.9960785 , 0.81568635,\n",
       "       0.7803922 , 0.7803922 , 0.7803922 , 0.7803922 , 0.54509807,\n",
       "       0.2392157 , 0.2392157 , 0.2392157 , 0.2392157 , 0.2392157 ,\n",
       "       0.5019608 , 0.8705883 , 0.9960785 , 0.9960785 , 0.7411765 ,\n",
       "       0.08235294, 0.        , 0.        , 0.        , 0.        ,\n",
       "       0.        , 0.        , 0.        , 0.        , 0.        ,\n",
       "       0.14901961, 0.32156864, 0.0509804 , 0.        , 0.        ,\n",
       "       0.        , 0.        , 0.        , 0.        , 0.        ,\n",
       "       0.        , 0.        , 0.        , 0.        , 0.13333334,\n",
       "       0.8352942 , 0.9960785 , 0.9960785 , 0.45098042, 0.        ,\n",
       "       0.        , 0.        , 0.        , 0.        , 0.        ,\n",
       "       0.        , 0.        , 0.        , 0.        , 0.        ,\n",
       "       0.        , 0.        , 0.        , 0.        , 0.        ,\n",
       "       0.        , 0.        , 0.        , 0.        , 0.        ,\n",
       "       0.        , 0.        , 0.        , 0.32941177, 0.9960785 ,\n",
       "       0.9960785 , 0.9176471 , 0.        , 0.        , 0.        ,\n",
       "       0.        , 0.        , 0.        , 0.        , 0.        ,\n",
       "       0.        , 0.        , 0.        , 0.        , 0.        ,\n",
       "       0.        , 0.        , 0.        , 0.        , 0.        ,\n",
       "       0.        , 0.        , 0.        , 0.        , 0.        ,\n",
       "       0.        , 0.32941177, 0.9960785 , 0.9960785 , 0.9176471 ,\n",
       "       0.        , 0.        , 0.        , 0.        , 0.        ,\n",
       "       0.        , 0.        , 0.        , 0.        , 0.        ,\n",
       "       0.        , 0.        , 0.        , 0.        , 0.        ,\n",
       "       0.        , 0.        , 0.        , 0.        , 0.        ,\n",
       "       0.        , 0.        , 0.        , 0.4156863 , 0.6156863 ,\n",
       "       0.9960785 , 0.9960785 , 0.95294124, 0.20000002, 0.        ,\n",
       "       0.        , 0.        , 0.        , 0.        , 0.        ,\n",
       "       0.        , 0.        , 0.        , 0.        , 0.        ,\n",
       "       0.        , 0.        , 0.        , 0.        , 0.        ,\n",
       "       0.        , 0.09803922, 0.45882356, 0.8941177 , 0.8941177 ,\n",
       "       0.8941177 , 0.9921569 , 0.9960785 , 0.9960785 , 0.9960785 ,\n",
       "       0.9960785 , 0.94117653, 0.        , 0.        , 0.        ,\n",
       "       0.        , 0.        , 0.        , 0.        , 0.        ,\n",
       "       0.        , 0.        , 0.        , 0.        , 0.        ,\n",
       "       0.        , 0.        , 0.26666668, 0.4666667 , 0.86274517,\n",
       "       0.9960785 , 0.9960785 , 0.9960785 , 0.9960785 , 0.9960785 ,\n",
       "       0.9960785 , 0.9960785 , 0.9960785 , 0.9960785 , 0.5568628 ,\n",
       "       0.        , 0.        , 0.        , 0.        , 0.        ,\n",
       "       0.        , 0.        , 0.        , 0.        , 0.        ,\n",
       "       0.        , 0.        , 0.        , 0.14509805, 0.73333335,\n",
       "       0.9921569 , 0.9960785 , 0.9960785 , 0.9960785 , 0.8745099 ,\n",
       "       0.8078432 , 0.8078432 , 0.29411766, 0.26666668, 0.8431373 ,\n",
       "       0.9960785 , 0.9960785 , 0.45882356, 0.        , 0.        ,\n",
       "       0.        , 0.        , 0.        , 0.        , 0.        ,\n",
       "       0.        , 0.        , 0.        , 0.        , 0.        ,\n",
       "       0.4431373 , 0.8588236 , 0.9960785 , 0.9490197 , 0.89019614,\n",
       "       0.45098042, 0.34901962, 0.12156864, 0.        , 0.        ,\n",
       "       0.        , 0.        , 0.7843138 , 0.9960785 , 0.9450981 ,\n",
       "       0.16078432, 0.        , 0.        , 0.        , 0.        ,\n",
       "       0.        , 0.        , 0.        , 0.        , 0.        ,\n",
       "       0.        , 0.        , 0.        , 0.6627451 , 0.9960785 ,\n",
       "       0.6901961 , 0.24313727, 0.        , 0.        , 0.        ,\n",
       "       0.        , 0.        , 0.        , 0.        , 0.18823531,\n",
       "       0.9058824 , 0.9960785 , 0.9176471 , 0.        , 0.        ,\n",
       "       0.        , 0.        , 0.        , 0.        , 0.        ,\n",
       "       0.        , 0.        , 0.        , 0.        , 0.        ,\n",
       "       0.        , 0.07058824, 0.48627454, 0.        , 0.        ,\n",
       "       0.        , 0.        , 0.        , 0.        , 0.        ,\n",
       "       0.        , 0.        , 0.32941177, 0.9960785 , 0.9960785 ,\n",
       "       0.6509804 , 0.        , 0.        , 0.        , 0.        ,\n",
       "       0.        , 0.        , 0.        , 0.        , 0.        ,\n",
       "       0.        , 0.        , 0.        , 0.        , 0.        ,\n",
       "       0.        , 0.        , 0.        , 0.        , 0.        ,\n",
       "       0.        , 0.        , 0.        , 0.        , 0.        ,\n",
       "       0.54509807, 0.9960785 , 0.9333334 , 0.22352943, 0.        ,\n",
       "       0.        , 0.        , 0.        , 0.        , 0.        ,\n",
       "       0.        , 0.        , 0.        , 0.        , 0.        ,\n",
       "       0.        , 0.        , 0.        , 0.        , 0.        ,\n",
       "       0.        , 0.        , 0.        , 0.        , 0.        ,\n",
       "       0.        , 0.        , 0.8235295 , 0.9803922 , 0.9960785 ,\n",
       "       0.65882355, 0.        , 0.        , 0.        , 0.        ,\n",
       "       0.        , 0.        , 0.        , 0.        , 0.        ,\n",
       "       0.        , 0.        , 0.        , 0.        , 0.        ,\n",
       "       0.        , 0.        , 0.        , 0.        , 0.        ,\n",
       "       0.        , 0.        , 0.        , 0.        , 0.        ,\n",
       "       0.9490197 , 0.9960785 , 0.93725497, 0.22352943, 0.        ,\n",
       "       0.        , 0.        , 0.        , 0.        , 0.        ,\n",
       "       0.        , 0.        , 0.        , 0.        , 0.        ,\n",
       "       0.        , 0.        , 0.        , 0.        , 0.        ,\n",
       "       0.        , 0.        , 0.        , 0.        , 0.        ,\n",
       "       0.        , 0.        , 0.34901962, 0.9843138 , 0.9450981 ,\n",
       "       0.3372549 , 0.        , 0.        , 0.        , 0.        ,\n",
       "       0.        , 0.        , 0.        , 0.        , 0.        ,\n",
       "       0.        , 0.        , 0.        , 0.        , 0.        ,\n",
       "       0.        , 0.        , 0.        , 0.        , 0.        ,\n",
       "       0.        , 0.        , 0.        , 0.        , 0.01960784,\n",
       "       0.8078432 , 0.96470594, 0.6156863 , 0.        , 0.        ,\n",
       "       0.        , 0.        , 0.        , 0.        , 0.        ,\n",
       "       0.        , 0.        , 0.        , 0.        , 0.        ,\n",
       "       0.        , 0.        , 0.        , 0.        , 0.        ,\n",
       "       0.        , 0.        , 0.        , 0.        , 0.        ,\n",
       "       0.        , 0.        , 0.01568628, 0.45882356, 0.27058825,\n",
       "       0.        , 0.        , 0.        , 0.        , 0.        ,\n",
       "       0.        , 0.        , 0.        , 0.        , 0.        ,\n",
       "       0.        , 0.        , 0.        , 0.        , 0.        ,\n",
       "       0.        , 0.        , 0.        , 0.        , 0.        ,\n",
       "       0.        , 0.        , 0.        , 0.        , 0.        ,\n",
       "       0.        , 0.        , 0.        , 0.        , 0.        ,\n",
       "       0.        , 0.        , 0.        , 0.        , 0.        ,\n",
       "       0.        , 0.        , 0.        , 0.        ], dtype=float32)"
      ]
     },
     "execution_count": 5,
     "metadata": {},
     "output_type": "execute_result"
    }
   ],
   "source": [
    "mnist.train.images[0]"
   ]
  },
  {
   "cell_type": "code",
   "execution_count": 6,
   "metadata": {},
   "outputs": [
    {
     "data": {
      "text/plain": [
       "784"
      ]
     },
     "execution_count": 6,
     "metadata": {},
     "output_type": "execute_result"
    }
   ],
   "source": [
    "len(mnist.train.images[0])"
   ]
  },
  {
   "cell_type": "code",
   "execution_count": 7,
   "metadata": {},
   "outputs": [],
   "source": [
    "import matplotlib.pyplot as plt\n",
    "%matplotlib inline"
   ]
  },
  {
   "cell_type": "code",
   "execution_count": 8,
   "metadata": {},
   "outputs": [
    {
     "data": {
      "text/plain": [
       "<matplotlib.image.AxesImage at 0x1c281284a8>"
      ]
     },
     "execution_count": 8,
     "metadata": {},
     "output_type": "execute_result"
    },
    {
     "data": {
      "image/png": "[encoded data removed]",
      "text/plain": [
       "<matplotlib.figure.Figure at 0x1c24bc2b00>"
      ]
     },
     "metadata": {},
     "output_type": "display_data"
    }
   ],
   "source": [
    "plt.imshow(mnist.train.images[1].reshape(28,28))"
   ]
  },
  {
   "cell_type": "code",
   "execution_count": 9,
   "metadata": {},
   "outputs": [
    {
     "data": {
      "text/plain": [
       "array([0., 0., 0., 1., 0., 0., 0., 0., 0., 0.])"
      ]
     },
     "execution_count": 9,
     "metadata": {},
     "output_type": "execute_result"
    }
   ],
   "source": [
    "mnist.train.labels[1]"
   ]
  },
  {
   "cell_type": "code",
   "execution_count": 10,
   "metadata": {},
   "outputs": [],
   "source": [
    "x = tf.placeholder(\"float\", shape=[None, 784])\n",
    "y_ = tf.placeholder(\"float\", shape=[None, 10])"
   ]
  },
  {
   "cell_type": "code",
   "execution_count": 11,
   "metadata": {},
   "outputs": [],
   "source": [
    "x_image = tf.reshape(x, [-1, 28, 28, 1])"
   ]
  },
  {
   "cell_type": "code",
   "execution_count": 12,
   "metadata": {},
   "outputs": [],
   "source": [
    "conv2d_1 = tf.contrib.layers.convolution2d(\n",
    "    x_image,\n",
    "    num_outputs=32,\n",
    "    kernel_size=(5,5),\n",
    "    activation_fn = tf.nn.relu,\n",
    "    stride = (1,1),\n",
    "    padding = 'SAME',\n",
    "    trainable = True)"
   ]
  },
  {
   "cell_type": "code",
   "execution_count": 13,
   "metadata": {},
   "outputs": [],
   "source": [
    "pool_1 = tf.nn.max_pool(conv2d_1, \n",
    "                        ksize= [1, 2,2,1],\n",
    "                       strides = [1,2,2,1],\n",
    "                       padding='SAME')"
   ]
  },
  {
   "cell_type": "code",
   "execution_count": 14,
   "metadata": {},
   "outputs": [
    {
     "data": {
      "text/plain": [
       "TensorShape([Dimension(None), Dimension(28), Dimension(28), Dimension(32)])"
      ]
     },
     "execution_count": 14,
     "metadata": {},
     "output_type": "execute_result"
    }
   ],
   "source": [
    "conv2d_1.get_shape()"
   ]
  },
  {
   "cell_type": "code",
   "execution_count": 15,
   "metadata": {},
   "outputs": [
    {
     "data": {
      "text/plain": [
       "TensorShape([Dimension(None), Dimension(14), Dimension(14), Dimension(32)])"
      ]
     },
     "execution_count": 15,
     "metadata": {},
     "output_type": "execute_result"
    }
   ],
   "source": [
    "pool_1.get_shape()"
   ]
  },
  {
   "cell_type": "code",
   "execution_count": 16,
   "metadata": {},
   "outputs": [],
   "source": [
    "conv2d_2 = tf.contrib.layers.convolution2d(\n",
    "    pool_1,\n",
    "    num_outputs=64,\n",
    "    kernel_size=(5,5),\n",
    "    activation_fn = tf.nn.relu,\n",
    "    stride = (1,1),\n",
    "    padding = 'SAME',\n",
    "    trainable = True)"
   ]
  },
  {
   "cell_type": "code",
   "execution_count": 17,
   "metadata": {},
   "outputs": [],
   "source": [
    "pool_2 = tf.nn.max_pool(conv2d_2, \n",
    "                        ksize= [1, 2,2,1],\n",
    "                       strides = [1,2,2,1],\n",
    "                       padding='SAME')"
   ]
  },
  {
   "cell_type": "code",
   "execution_count": 18,
   "metadata": {},
   "outputs": [
    {
     "data": {
      "text/plain": [
       "TensorShape([Dimension(None), Dimension(14), Dimension(14), Dimension(64)])"
      ]
     },
     "execution_count": 18,
     "metadata": {},
     "output_type": "execute_result"
    }
   ],
   "source": [
    "conv2d_2.get_shape()"
   ]
  },
  {
   "cell_type": "code",
   "execution_count": 19,
   "metadata": {},
   "outputs": [
    {
     "data": {
      "text/plain": [
       "TensorShape([Dimension(None), Dimension(7), Dimension(7), Dimension(64)])"
      ]
     },
     "execution_count": 19,
     "metadata": {},
     "output_type": "execute_result"
    }
   ],
   "source": [
    "pool_2.get_shape()"
   ]
  },
  {
   "cell_type": "code",
   "execution_count": 20,
   "metadata": {},
   "outputs": [],
   "source": [
    "pool2_flat = tf.reshape(pool_2, [-1, 7*7*64])"
   ]
  },
  {
   "cell_type": "code",
   "execution_count": 21,
   "metadata": {},
   "outputs": [],
   "source": [
    "fc_1 = tf.contrib.layers.fully_connected(pool2_flat, \n",
    "                                        1024,\n",
    "                                        activation_fn = tf.nn.relu)"
   ]
  },
  {
   "cell_type": "code",
   "execution_count": 22,
   "metadata": {},
   "outputs": [],
   "source": [
    "keep_prob = tf.placeholder(\"float\")\n",
    "fc1_drop = tf.nn.dropout(fc_1, keep_prob)"
   ]
  },
  {
   "cell_type": "code",
   "execution_count": null,
   "metadata": {},
   "outputs": [],
   "source": []
  },
  {
   "cell_type": "code",
   "execution_count": 23,
   "metadata": {},
   "outputs": [],
   "source": [
    "fc_2 = tf.contrib.layers.fully_connected(fc1_drop, \n",
    "                                        10,\n",
    "                                        activation_fn = tf.nn.softmax)"
   ]
  },
  {
   "cell_type": "code",
   "execution_count": 24,
   "metadata": {},
   "outputs": [],
   "source": [
    "loss = -tf.reduce_sum(y_ * tf.log(fc_2))"
   ]
  },
  {
   "cell_type": "code",
   "execution_count": 25,
   "metadata": {},
   "outputs": [],
   "source": [
    "train_step = tf.train.GradientDescentOptimizer(0.0001).minimize(loss)"
   ]
  },
  {
   "cell_type": "code",
   "execution_count": 26,
   "metadata": {},
   "outputs": [],
   "source": [
    "sess = tf.Session()\n",
    "sess.run(tf.global_variables_initializer())"
   ]
  },
  {
   "cell_type": "code",
   "execution_count": null,
   "metadata": {},
   "outputs": [],
   "source": [
    "correct_pred = tf.equal(tf.argmax(fc_2, 1), tf.argmax(y_, 1))\n",
    "accuracy = tf.reduce_mean(tf.cast(correct_pred, tf.float32))"
   ]
  },
  {
   "cell_type": "code",
   "execution_count": null,
   "metadata": {},
   "outputs": [
    {
     "name": "stdout",
     "output_type": "stream",
     "text": [
      "114.755585\n",
      "0.0773\n",
      "--------------\n",
      "111.51022\n",
      "0.3186\n",
      "--------------\n",
      "109.173744\n",
      "0.5378\n",
      "--------------\n",
      "98.06425\n",
      "0.6548\n",
      "--------------\n",
      "81.93743\n",
      "0.6982\n",
      "--------------\n",
      "46.132698\n",
      "0.7407\n",
      "--------------\n",
      "43.139786\n",
      "0.7874\n",
      "--------------\n",
      "31.82726\n",
      "0.8418\n",
      "--------------\n",
      "30.005209\n",
      "0.8573\n",
      "--------------\n",
      "29.255384\n",
      "0.8752\n",
      "--------------\n",
      "26.02791\n",
      "0.8747\n",
      "--------------\n",
      "18.284384\n",
      "0.8856\n",
      "--------------\n",
      "28.066277\n",
      "0.8984\n",
      "--------------\n",
      "24.184027\n",
      "0.8982\n",
      "--------------\n",
      "13.036492\n",
      "0.9023\n",
      "--------------\n",
      "33.22979\n",
      "0.9084\n",
      "--------------\n",
      "13.805885\n",
      "0.9051\n",
      "--------------\n",
      "13.716793\n",
      "0.9159\n",
      "--------------\n",
      "9.310038\n",
      "0.914\n",
      "--------------\n",
      "11.859652\n",
      "0.92\n",
      "--------------\n",
      "14.794542\n",
      "0.9246\n",
      "--------------\n",
      "9.77744\n",
      "0.9232\n",
      "--------------\n",
      "6.099699\n",
      "0.9258\n",
      "--------------\n",
      "15.665421\n",
      "0.9189\n",
      "--------------\n",
      "10.991343\n",
      "0.9273\n",
      "--------------\n",
      "9.812216\n",
      "0.9307\n",
      "--------------\n",
      "7.8547688\n",
      "0.9357\n",
      "--------------\n",
      "12.281435\n",
      "0.9342\n",
      "--------------\n",
      "7.824145\n",
      "0.9326\n",
      "--------------\n",
      "7.7990685\n",
      "0.9379\n",
      "--------------\n",
      "9.309114\n",
      "0.9373\n",
      "--------------\n",
      "11.758891\n",
      "0.9378\n",
      "--------------\n",
      "14.695442\n",
      "0.9354\n",
      "--------------\n",
      "12.599428\n",
      "0.9403\n",
      "--------------\n",
      "15.817507\n",
      "0.942\n",
      "--------------\n",
      "8.946287\n",
      "0.9429\n",
      "--------------\n",
      "5.845645\n",
      "0.9443\n",
      "--------------\n",
      "7.3763533\n",
      "0.9458\n",
      "--------------\n",
      "5.3192654\n",
      "0.9425\n",
      "--------------\n",
      "21.371431\n",
      "0.946\n",
      "--------------\n",
      "10.627939\n",
      "0.9446\n",
      "--------------\n",
      "9.776442\n",
      "0.9485\n",
      "--------------\n",
      "8.267487\n",
      "0.9509\n",
      "--------------\n",
      "10.85527\n",
      "0.9495\n",
      "--------------\n",
      "7.1606274\n",
      "0.9487\n",
      "--------------\n",
      "9.922831\n",
      "0.9534\n",
      "--------------\n",
      "11.272451\n",
      "0.9522\n",
      "--------------\n",
      "5.5952454\n",
      "0.9512\n",
      "--------------\n",
      "3.8621898\n",
      "0.9527\n",
      "--------------\n",
      "7.7660904\n",
      "0.9532\n",
      "--------------\n",
      "12.440466\n",
      "0.9552\n",
      "--------------\n",
      "4.285364\n",
      "0.956\n",
      "--------------\n",
      "6.494634\n",
      "0.9549\n",
      "--------------\n",
      "5.1371355\n",
      "0.9559\n",
      "--------------\n",
      "4.0771656\n",
      "0.9579\n",
      "--------------\n",
      "3.8677125\n",
      "0.9595\n",
      "--------------\n",
      "10.749643\n",
      "0.9578\n",
      "--------------\n",
      "4.4979386\n",
      "0.9564\n",
      "--------------\n",
      "5.699411\n",
      "0.9567\n",
      "--------------\n",
      "3.6296415\n",
      "0.9576\n",
      "--------------\n",
      "5.879737\n",
      "0.9604\n",
      "--------------\n",
      "15.613115\n",
      "0.9591\n",
      "--------------\n",
      "10.129694\n",
      "0.9575\n",
      "--------------\n",
      "2.5639577\n",
      "0.9606\n",
      "--------------\n",
      "4.8280177\n",
      "0.9612\n",
      "--------------\n",
      "8.217493\n",
      "0.9622\n",
      "--------------\n",
      "7.9065475\n",
      "0.9616\n",
      "--------------\n",
      "3.5210996\n",
      "0.9647\n",
      "--------------\n",
      "5.08947\n",
      "0.9638\n",
      "--------------\n",
      "3.2810946\n",
      "0.9628\n",
      "--------------\n",
      "4.441616\n",
      "0.9622\n",
      "--------------\n",
      "8.599348\n",
      "0.9623\n",
      "--------------\n",
      "8.364786\n",
      "0.9629\n",
      "--------------\n",
      "2.6642575\n",
      "0.9635\n",
      "--------------\n",
      "7.6038284\n",
      "0.9643\n",
      "--------------\n",
      "5.4900303\n",
      "0.965\n",
      "--------------\n",
      "6.026716\n",
      "0.9644\n",
      "--------------\n",
      "9.241722\n",
      "0.9669\n",
      "--------------\n",
      "1.4805893\n",
      "0.9658\n",
      "--------------\n",
      "2.4804783\n",
      "0.9656\n",
      "--------------\n",
      "2.4027157\n",
      "0.9664\n",
      "--------------\n",
      "1.2007334\n",
      "0.9654\n",
      "--------------\n",
      "3.7446694\n",
      "0.966\n",
      "--------------\n",
      "3.156123\n",
      "0.9652\n",
      "--------------\n",
      "2.7786171\n",
      "0.9667\n",
      "--------------\n",
      "1.9748433\n",
      "0.9682\n",
      "--------------\n",
      "10.901329\n",
      "0.968\n",
      "--------------\n",
      "4.1280313\n",
      "0.968\n",
      "--------------\n",
      "8.042549\n",
      "0.9685\n",
      "--------------\n",
      "4.606745\n",
      "0.9642\n",
      "--------------\n",
      "2.513884\n",
      "0.9684\n",
      "--------------\n",
      "1.15321\n",
      "0.9686\n",
      "--------------\n",
      "6.9821544\n",
      "0.9679\n",
      "--------------\n",
      "2.0118175\n",
      "0.9687\n",
      "--------------\n",
      "4.721838\n",
      "0.9683\n",
      "--------------\n",
      "3.367778\n",
      "0.9691\n",
      "--------------\n",
      "2.384357\n",
      "0.969\n",
      "--------------\n",
      "2.3209221\n",
      "0.9684\n",
      "--------------\n",
      "4.941422\n",
      "0.9697\n",
      "--------------\n",
      "6.2601924\n",
      "0.9697\n",
      "--------------\n",
      "7.7655964\n",
      "0.9695\n",
      "--------------\n",
      "2.4025197\n",
      "0.9696\n",
      "--------------\n",
      "2.9681091\n",
      "0.9692\n",
      "--------------\n",
      "1.9564868\n",
      "0.9718\n",
      "--------------\n",
      "2.998015\n",
      "0.9712\n",
      "--------------\n",
      "1.7640419\n",
      "0.9715\n",
      "--------------\n",
      "2.1289375\n",
      "0.971\n",
      "--------------\n",
      "4.4494224\n",
      "0.9706\n",
      "--------------\n",
      "2.3486629\n",
      "0.9713\n",
      "--------------\n",
      "3.0480092\n",
      "0.9711\n",
      "--------------\n",
      "4.4215302\n",
      "0.9708\n",
      "--------------\n",
      "1.962319\n",
      "0.9722\n",
      "--------------\n",
      "3.0561228\n",
      "0.9732\n",
      "--------------\n",
      "1.406903\n",
      "0.9718\n",
      "--------------\n",
      "10.200954\n",
      "0.973\n",
      "--------------\n",
      "6.6716814\n",
      "0.9724\n",
      "--------------\n",
      "1.1285647\n",
      "0.9732\n",
      "--------------\n",
      "2.3097482\n",
      "0.9739\n",
      "--------------\n",
      "3.3002224\n",
      "0.9734\n",
      "--------------\n",
      "13.328636\n",
      "0.9739\n",
      "--------------\n",
      "3.0631943\n",
      "0.9727\n",
      "--------------\n",
      "2.1633306\n",
      "0.9744\n",
      "--------------\n",
      "2.199626\n",
      "0.9746\n",
      "--------------\n",
      "3.5341806\n",
      "0.9749\n",
      "--------------\n",
      "2.6506147\n",
      "0.9727\n",
      "--------------\n",
      "2.4559627\n",
      "0.9743\n",
      "--------------\n",
      "2.8384607\n",
      "0.9711\n",
      "--------------\n",
      "2.4524465\n",
      "0.974\n",
      "--------------\n",
      "1.9630153\n"
     ]
    }
   ],
   "source": [
    "for i in range(20000):\n",
    "    batch = mnist.train.next_batch(50)\n",
    "    sess.run(train_step, feed_dict={x : batch[0], y_:batch[1], keep_prob:0.5})\n",
    "    if i%50 == 0:\n",
    "        print(sess.run(loss, feed_dict={x : batch[0], y_:batch[1], keep_prob:1}))\n",
    "        print(sess.run(accuracy, feed_dict={x:mnist.test.images, y_:mnist.test.labels,keep_prob:1}))\n",
    "        print(\"--------------\")"
   ]
  },
  {
   "cell_type": "code",
   "execution_count": null,
   "metadata": {},
   "outputs": [],
   "source": []
  }
 ],
 "metadata": {
  "kernelspec": {
   "display_name": "Python 3",
   "language": "python",
   "name": "python3"
  },
  "language_info": {
   "codemirror_mode": {
    "name": "ipython",
    "version": 3
   },
   "file_extension": ".py",
   "mimetype": "text/x-python",
   "name": "python",
   "nbconvert_exporter": "python",
   "pygments_lexer": "ipython3",
   "version": "3.5.4"
  }
 },
 "nbformat": 4,
 "nbformat_minor": 2
}
