{
 "cells": [
  {
   "cell_type": "code",
   "execution_count": 1,
   "metadata": {},
   "outputs": [
    {
     "name": "stderr",
     "output_type": "stream",
     "text": [
      "/anaconda3/envs/py35/lib/python3.5/importlib/_bootstrap.py:222: RuntimeWarning: compiletime version 3.6 of module 'tensorflow.python.framework.fast_tensor_util' does not match runtime version 3.5\n",
      "  return f(*args, **kwds)\n",
      "/anaconda3/envs/py35/lib/python3.5/site-packages/h5py/__init__.py:36: FutureWarning: Conversion of the second argument of issubdtype from `float` to `np.floating` is deprecated. In future, it will be treated as `np.float64 == np.dtype(float).type`.\n",
      "  from ._conv import register_converters as _register_converters\n"
     ]
    }
   ],
   "source": [
    "import tensorflow as tf\n",
    "import numpy as np"
   ]
  },
  {
   "cell_type": "code",
   "execution_count": 2,
   "metadata": {},
   "outputs": [
    {
     "name": "stdout",
     "output_type": "stream",
     "text": [
      "Extracting MNIST_data/train-images-idx3-ubyte.gz\n",
      "Extracting MNIST_data/train-labels-idx1-ubyte.gz\n",
      "Extracting MNIST_data/t10k-images-idx3-ubyte.gz\n",
      "Extracting MNIST_data/t10k-labels-idx1-ubyte.gz\n"
     ]
    }
   ],
   "source": [
    "from tensorflow.examples.tutorials.mnist import input_data\n",
    "mnist = input_data.read_data_sets(\"MNIST_data/\", one_hot = True)"
   ]
  },
  {
   "cell_type": "code",
   "execution_count": 3,
   "metadata": {},
   "outputs": [],
   "source": [
    "learning_rate = 0.001\n",
    "batch_size = 128\n",
    "\n",
    "n_input = 28\n",
    "n_steps = 28\n",
    "n_hidden = 64\n",
    "n_classes = 10"
   ]
  },
  {
   "cell_type": "code",
   "execution_count": 4,
   "metadata": {},
   "outputs": [],
   "source": [
    "x = tf.placeholder(tf.float32, [None, n_steps, n_input])\n",
    "y = tf.placeholder(tf.float32, [None, n_classes])"
   ]
  },
  {
   "cell_type": "code",
   "execution_count": 5,
   "metadata": {},
   "outputs": [],
   "source": [
    "output, _ = tf.nn.dynamic_rnn(\n",
    "            tf.contrib.rnn.GRUCell(n_hidden),\n",
    "            x,\n",
    "            dtype = tf.float32,\n",
    "            sequence_length = batch_size*[n_input],\n",
    "    )"
   ]
  },
  {
   "cell_type": "code",
   "execution_count": 6,
   "metadata": {},
   "outputs": [
    {
     "data": {
      "text/plain": [
       "TensorShape([Dimension(None), Dimension(28), Dimension(64)])"
      ]
     },
     "execution_count": 6,
     "metadata": {},
     "output_type": "execute_result"
    }
   ],
   "source": [
    "output.get_shape()"
   ]
  },
  {
   "cell_type": "code",
   "execution_count": 7,
   "metadata": {},
   "outputs": [],
   "source": [
    "index = tf.range(0,batch_size)*n_steps + (n_input -1)\n",
    "flat = tf.reshape(output, [-1,int(output.get_shape()[2])])\n",
    "last = tf.gather(flat, index)\n"
   ]
  },
  {
   "cell_type": "code",
   "execution_count": 8,
   "metadata": {},
   "outputs": [],
   "source": [
    "num_classes = int(y.get_shape()[1])\n",
    "weight = tf.Variable(tf.truncated_normal([n_hidden, num_classes], stddev = 0.01))\n",
    "bias = tf.Variable(tf.constant(0.1, shape = [num_classes]))\n",
    "prediction = tf.nn.softmax(tf.matmul(last, weight) + bias)"
   ]
  },
  {
   "cell_type": "code",
   "execution_count": 9,
   "metadata": {},
   "outputs": [],
   "source": [
    "cross_entropy = -tf.reduce_sum(y * tf.log(prediction))"
   ]
  },
  {
   "cell_type": "code",
   "execution_count": 10,
   "metadata": {},
   "outputs": [
    {
     "name": "stderr",
     "output_type": "stream",
     "text": [
      "/anaconda3/envs/py35/lib/python3.5/site-packages/tensorflow/python/ops/gradients_impl.py:97: UserWarning: Converting sparse IndexedSlices to a dense Tensor of unknown shape. This may consume a large amount of memory.\n",
      "  \"Converting sparse IndexedSlices to a dense Tensor of unknown shape. \"\n"
     ]
    },
    {
     "name": "stdout",
     "output_type": "stream",
     "text": [
      "WARNING:tensorflow:From /anaconda3/envs/py35/lib/python3.5/site-packages/tensorflow/python/ops/clip_ops.py:110: calling reduce_sum (from tensorflow.python.ops.math_ops) with keep_dims is deprecated and will be removed in a future version.\n",
      "Instructions for updating:\n",
      "keep_dims is deprecated, use keepdims instead\n"
     ]
    }
   ],
   "source": [
    "optimizer = tf.train.AdamOptimizer(learning_rate, beta1 = 0.5)\n",
    "grads = optimizer.compute_gradients(cross_entropy)\n",
    "for i, (g, v) in enumerate(grads):\n",
    "    if g is not None:\n",
    "        grads[i] = (tf.clip_by_norm(g, 5), v)\n",
    "train_op = optimizer.apply_gradients(grads)\n"
   ]
  },
  {
   "cell_type": "code",
   "execution_count": 11,
   "metadata": {},
   "outputs": [],
   "source": [
    "correct_pred = tf.equal(tf.argmax(prediction, 1), tf.argmax(y, 1))\n",
    "accuracy = tf.reduce_mean(tf.cast(correct_pred, tf.float32))"
   ]
  },
  {
   "cell_type": "code",
   "execution_count": 12,
   "metadata": {},
   "outputs": [],
   "source": [
    "sess = tf.Session()"
   ]
  },
  {
   "cell_type": "code",
   "execution_count": 13,
   "metadata": {},
   "outputs": [
    {
     "name": "stdout",
     "output_type": "stream",
     "text": [
      "Iter 0, Minibatch Loss = 294.231812 Training Accuracy=0.164062\n",
      "Iter 50, Minibatch Loss = 219.154602 Training Accuracy=0.437500\n",
      "Iter 100, Minibatch Loss = 158.273178 Training Accuracy=0.570312\n",
      "Iter 150, Minibatch Loss = 134.672287 Training Accuracy=0.617188\n",
      "Iter 200, Minibatch Loss = 89.897095 Training Accuracy=0.765625\n",
      "Iter 250, Minibatch Loss = 68.426300 Training Accuracy=0.828125\n",
      "Iter 300, Minibatch Loss = 53.529186 Training Accuracy=0.875000\n",
      "Iter 350, Minibatch Loss = 47.197731 Training Accuracy=0.867188\n",
      "Iter 400, Minibatch Loss = 43.396774 Training Accuracy=0.906250\n",
      "Iter 450, Minibatch Loss = 41.338951 Training Accuracy=0.929688\n",
      "Iter 500, Minibatch Loss = 40.015926 Training Accuracy=0.921875\n",
      "Iter 550, Minibatch Loss = 33.649063 Training Accuracy=0.914062\n",
      "Iter 600, Minibatch Loss = 33.231575 Training Accuracy=0.945312\n",
      "Iter 650, Minibatch Loss = 32.738220 Training Accuracy=0.929688\n",
      "Iter 700, Minibatch Loss = 32.566116 Training Accuracy=0.937500\n",
      "Iter 750, Minibatch Loss = 23.169317 Training Accuracy=0.929688\n",
      "Iter 800, Minibatch Loss = 31.869144 Training Accuracy=0.945312\n",
      "Iter 850, Minibatch Loss = 21.843014 Training Accuracy=0.929688\n",
      "Iter 900, Minibatch Loss = 25.252846 Training Accuracy=0.968750\n",
      "Iter 950, Minibatch Loss = 31.075363 Training Accuracy=0.929688\n",
      "Iter 1000, Minibatch Loss = 28.718439 Training Accuracy=0.953125\n",
      "Iter 1050, Minibatch Loss = 24.713192 Training Accuracy=0.960938\n",
      "Iter 1100, Minibatch Loss = 24.387371 Training Accuracy=0.945312\n",
      "Iter 1150, Minibatch Loss = 20.600651 Training Accuracy=0.976562\n",
      "Iter 1200, Minibatch Loss = 12.169809 Training Accuracy=0.984375\n",
      "Iter 1250, Minibatch Loss = 33.456257 Training Accuracy=0.929688\n",
      "Optimization Finished!\n"
     ]
    }
   ],
   "source": [
    "init = tf.global_variables_initializer()\n",
    "sess.run(init)\n",
    "for step in range(1300):\n",
    "    batch_x, batch_y = mnist.train.next_batch(batch_size)\n",
    "    batch_x = batch_x.reshape(batch_size, n_steps, n_input)\n",
    "    sess.run(train_op,feed_dict = {x:batch_x, y:batch_y})\n",
    "    if step % 50 ==0:\n",
    "        acc = sess.run(accuracy, feed_dict = {x:batch_x, y:batch_y})\n",
    "        loss = sess.run(cross_entropy, feed_dict = {x:batch_x, y:batch_y})\n",
    "        print(\"Iter \" + str(step) + \", Minibatch Loss = \" + \"{:.6f}\".format(loss) + \" Training Accuracy=\" + \"{:.6f}\".format(acc))\n",
    "print(\"Optimization Finished!\")"
   ]
  },
  {
   "cell_type": "code",
   "execution_count": 14,
   "metadata": {},
   "outputs": [],
   "source": [
    "test_x = mnist.test.images\n",
    "test_x = test_x.reshape((-1, n_steps, n_input))\n",
    "test_y = mnist.test.labels"
   ]
  },
  {
   "cell_type": "code",
   "execution_count": 15,
   "metadata": {},
   "outputs": [
    {
     "name": "stdout",
     "output_type": "stream",
     "text": [
      "0.984375\n"
     ]
    }
   ],
   "source": [
    "acc = sess.run(accuracy , feed_dict = {x: test_x[:128], y:test_y[:128]})\n",
    "print(acc)"
   ]
  }
 ],
 "metadata": {
  "kernelspec": {
   "display_name": "Python 3",
   "language": "python",
   "name": "python3"
  },
  "language_info": {
   "codemirror_mode": {
    "name": "ipython",
    "version": 3
   },
   "file_extension": ".py",
   "mimetype": "text/x-python",
   "name": "python",
   "nbconvert_exporter": "python",
   "pygments_lexer": "ipython3",
   "version": "3.5.4"
  }
 },
 "nbformat": 4,
 "nbformat_minor": 2
}
