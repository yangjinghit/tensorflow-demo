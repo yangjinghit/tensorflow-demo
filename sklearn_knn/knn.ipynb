{
 "cells": [
  {
   "cell_type": "code",
   "execution_count": 1,
   "metadata": {},
   "outputs": [],
   "source": [
    "from sklearn import datasets"
   ]
  },
  {
   "cell_type": "code",
   "execution_count": 2,
   "metadata": {},
   "outputs": [],
   "source": [
    "from sklearn.neighbors import KNeighborsClassifier \n",
    "import numpy as np \n"
   ]
  },
  {
   "cell_type": "code",
   "execution_count": 6,
   "metadata": {},
   "outputs": [],
   "source": [
    "np.random.seed(0)  \n",
    "iris=datasets.load_iris() \n",
    "iris_x=iris.data   \n",
    "iris_y=iris.target  \n",
    "indices = np.random.permutation(len(iris_x)) \n",
    "iris_x_train = iris_x[indices[:-10]]\n",
    "iris_y_train = iris_y[indices[:-10]] \n",
    "iris_x_test  = iris_x[indices[-10:]]\n",
    "iris_y_test  = iris_y[indices[-10:]] \n",
    "\n",
    "knn = KNeighborsClassifier() \n",
    "knn.fit(iris_x_train, iris_y_train)  \n",
    "\n",
    "iris_y_predict = knn.predict(iris_x_test) \n",
    "probility=knn.predict_proba(iris_x_test)  \n"
   ]
  },
  {
   "cell_type": "code",
   "execution_count": 12,
   "metadata": {},
   "outputs": [
    {
     "data": {
      "text/plain": [
       "(140, 4)"
      ]
     },
     "execution_count": 12,
     "metadata": {},
     "output_type": "execute_result"
    }
   ],
   "source": [
    "np.shape(iris_x_train)"
   ]
  },
  {
   "cell_type": "code",
   "execution_count": 15,
   "metadata": {},
   "outputs": [
    {
     "data": {
      "text/plain": [
       "array([[4.6, 3.2, 1.4, 0.2]])"
      ]
     },
     "execution_count": 15,
     "metadata": {},
     "output_type": "execute_result"
    }
   ],
   "source": [
    "iris_x_test[-1].reshape(1,-1)"
   ]
  },
  {
   "cell_type": "code",
   "execution_count": 10,
   "metadata": {},
   "outputs": [
    {
     "name": "stdout",
     "output_type": "stream",
     "text": [
      "iris_y_predict = \n",
      "[1 2 1 0 0 0 2 1 2 0]\n",
      "iris_y_test = \n",
      "[1 1 1 0 0 0 2 1 2 0]\n",
      "Accuracy:\n",
      "0.9\n",
      "probility:\n",
      "[[0.  1.  0. ]\n",
      " [0.  0.4 0.6]\n",
      " [0.  1.  0. ]\n",
      " [1.  0.  0. ]\n",
      " [1.  0.  0. ]\n",
      " [1.  0.  0. ]\n",
      " [0.  0.  1. ]\n",
      " [0.  1.  0. ]\n",
      " [0.  0.  1. ]\n",
      " [1.  0.  0. ]]\n"
     ]
    }
   ],
   "source": [
    "score=knn.score(iris_x_test,iris_y_test,sample_weight=None)\n",
    "\n",
    "print('iris_y_predict = ')  \n",
    "print(iris_y_predict)  \n",
    "\n",
    "print('iris_y_test = ')\n",
    "print(iris_y_test)    \n",
    "print ('Accuracy:')\n",
    "print(score)  \n",
    "\n",
    "print ('probility:')\n",
    "print (probility)"
   ]
  },
  {
   "cell_type": "code",
   "execution_count": 18,
   "metadata": {},
   "outputs": [
    {
     "name": "stdout",
     "output_type": "stream",
     "text": [
      "neighborpoint of last test sample:\n",
      "[[ 71  81 127  63  38]\n",
      " [119  33  76  60  52]\n",
      " [ 79 132   1  13  27]\n",
      " [ 44 113 107  68  32]\n",
      " [122  87  99  97  68]\n",
      " [106  15  93  61  82]\n",
      " [ 46  30  86  70  34]\n",
      " [ 39 128 127  50  63]\n",
      " [116 104  80  51 121]\n",
      " [ 75  41  96  78 123]]\n"
     ]
    }
   ],
   "source": [
    "neighborpoint=knn.kneighbors(iris_x_test,5,False)\n",
    "print ('neighborpoint of last test sample:')\n",
    "print(neighborpoint)"
   ]
  },
  {
   "cell_type": "code",
   "execution_count": null,
   "metadata": {},
   "outputs": [],
   "source": []
  }
 ],
 "metadata": {
  "kernelspec": {
   "display_name": "Python 3",
   "language": "python",
   "name": "python3"
  },
  "language_info": {
   "codemirror_mode": {
    "name": "ipython",
    "version": 3
   },
   "file_extension": ".py",
   "mimetype": "text/x-python",
   "name": "python",
   "nbconvert_exporter": "python",
   "pygments_lexer": "ipython3",
   "version": "3.5.4"
  }
 },
 "nbformat": 4,
 "nbformat_minor": 2
}
