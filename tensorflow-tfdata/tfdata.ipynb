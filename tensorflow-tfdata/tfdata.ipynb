{
 "cells": [
  {
   "cell_type": "code",
   "execution_count": 1,
   "metadata": {},
   "outputs": [
    {
     "name": "stderr",
     "output_type": "stream",
     "text": [
      "/anaconda3/envs/py35/lib/python3.5/site-packages/h5py/__init__.py:36: FutureWarning: Conversion of the second argument of issubdtype from `float` to `np.floating` is deprecated. In future, it will be treated as `np.float64 == np.dtype(float).type`.\n",
      "  from ._conv import register_converters as _register_converters\n"
     ]
    }
   ],
   "source": [
    "import tensorflow as tf\n",
    "import glob\n",
    "import numpy as np"
   ]
  },
  {
   "cell_type": "code",
   "execution_count": 2,
   "metadata": {},
   "outputs": [
    {
     "data": {
      "text/plain": [
       "'1.10.0'"
      ]
     },
     "execution_count": 2,
     "metadata": {},
     "output_type": "execute_result"
    }
   ],
   "source": [
    "tf.VERSION"
   ]
  },
  {
   "cell_type": "code",
   "execution_count": null,
   "metadata": {},
   "outputs": [],
   "source": [
    "image_filenames = glob.glob('./dc/train/*.jpg')"
   ]
  },
  {
   "cell_type": "code",
   "execution_count": null,
   "metadata": {},
   "outputs": [],
   "source": [
    "image_filenames = np.random.permutation(image_filenames)"
   ]
  },
  {
   "cell_type": "code",
   "execution_count": null,
   "metadata": {},
   "outputs": [],
   "source": [
    "lables = list(map(lambda x: float(x.split('\\\\')[1].split('.')[0] == 'cat'), image_filenames))"
   ]
  },
  {
   "cell_type": "code",
   "execution_count": null,
   "metadata": {},
   "outputs": [],
   "source": [
    "dataset = tf.data.Dataset.from_tensor_slices((image_filenames, lables))"
   ]
  },
  {
   "cell_type": "code",
   "execution_count": null,
   "metadata": {},
   "outputs": [],
   "source": [
    "dataset"
   ]
  },
  {
   "cell_type": "code",
   "execution_count": null,
   "metadata": {},
   "outputs": [],
   "source": [
    "def _pre_read(img_filename, lable):\n",
    "    image = tf.read_file(img_filename)\n",
    "    image = tf.image.decode_jpeg(image, channels=3)\n",
    "    image = tf.image.rgb_to_grayscale(image)\n",
    "    image = tf.image.resize_images(image, (200, 200))\n",
    "    image = tf.reshape(image, [200, 200, 1])\n",
    "    image = tf.image.per_image_standardization(image)\n",
    "    lable = tf.reshape(lable, [1])\n",
    "    return image, lable"
   ]
  },
  {
   "cell_type": "code",
   "execution_count": null,
   "metadata": {},
   "outputs": [],
   "source": [
    "dataset = dataset.map(_per_read)"
   ]
  },
  {
   "cell_type": "code",
   "execution_count": null,
   "metadata": {},
   "outputs": [],
   "source": [
    "dataset = dataset.shuffle(300)"
   ]
  },
  {
   "cell_type": "code",
   "execution_count": null,
   "metadata": {},
   "outputs": [],
   "source": [
    "dataset = dataset.repeat(-1)"
   ]
  },
  {
   "cell_type": "code",
   "execution_count": null,
   "metadata": {},
   "outputs": [],
   "source": [
    "dataset = dataset.batch(64)"
   ]
  },
  {
   "cell_type": "code",
   "execution_count": null,
   "metadata": {},
   "outputs": [],
   "source": [
    "dataset"
   ]
  },
  {
   "cell_type": "code",
   "execution_count": null,
   "metadata": {},
   "outputs": [],
   "source": [
    "iterator = dataset.make_one_shot_iterator()\n",
    "next_element = iterator.get_next()"
   ]
  },
  {
   "cell_type": "code",
   "execution_count": null,
   "metadata": {},
   "outputs": [],
   "source": [
    "conv2d_1 = tf.contrib.layers.convolution2d(\n",
    "    next_element[0],\n",
    "    num_outputs=32,\n",
    "    weights_initializer = tf.truncated_normal_initializer(stddev=0.001),\n",
    "    kernel_size = (5,5),\n",
    "    activation_fn = tf.nn.relu,\n",
    "    stride = (1,1),\n",
    "    padding = 'SAME',\n",
    "    trainable = True)\n",
    "pool_1 = tf.nn.max_pool(conv2d_1,\n",
    "                       ksize = [1,3,3,1],\n",
    "                       strides = [1,2,2,1],\n",
    "                       padding='SAME')\n"
   ]
  },
  {
   "cell_type": "code",
   "execution_count": null,
   "metadata": {},
   "outputs": [],
   "source": [
    "conv2d_2 = tf.contrib.layers.convolution2d(\n",
    "    pool_1,\n",
    "    num_outputs=32,\n",
    "    weights_initializer = tf.truncated_normal_initializer(stddev=0.01),\n",
    "    kernel_size = (5,5),\n",
    "    activation_fn = tf.nn.relu,\n",
    "    stride = (1,1),\n",
    "    padding = 'SAME',\n",
    "    trainable = True)\n",
    "pool_2 = tf.nn.max_pool(conv2d_2,\n",
    "                       ksize = [1,3,3,1],\n",
    "                       strides = [1,2,2,1],\n",
    "                       padding='SAME')\n"
   ]
  },
  {
   "cell_type": "code",
   "execution_count": null,
   "metadata": {},
   "outputs": [],
   "source": [
    "conv2d_3 = tf.contrib.layers.convolution2d(\n",
    "    pool_2,\n",
    "    num_outputs=64,\n",
    "    weights_initializer = tf.truncated_normal_initializer(stddev=0.01),\n",
    "    kernel_size = (5,5),\n",
    "    activation_fn = tf.nn.relu,\n",
    "    stride = (1,1),\n",
    "    padding = 'SAME',\n",
    "    trainable = True)\n",
    "pool_3 = tf.nn.max_pool(conv2d_3,\n",
    "                       ksize = [1,3,3,1],\n",
    "                       strides = [1,2,2,1],\n",
    "                       padding='SAME')\n"
   ]
  },
  {
   "cell_type": "code",
   "execution_count": null,
   "metadata": {},
   "outputs": [],
   "source": [
    "pool3_flat = tf.reshape(pool_3, [-1, 25*25*64])\n",
    "fc_1 = tf.contrib.layers.fully_connected(\n",
    "                            pool3_flat, \n",
    "                            1024, \n",
    "                            weights_initializer = tf.truncated_normal_initializer(stddev=0.1),\n",
    "                            activation_fn = tf.nn.relu)\n"
   ]
  },
  {
   "cell_type": "code",
   "execution_count": null,
   "metadata": {},
   "outputs": [],
   "source": [
    "fc_2 = tf.contrib.layers.fully_connected(\n",
    "                            fc_1, \n",
    "                            192, \n",
    "                            weights_initializer = tf.truncated_normal_initializer(stddev=0.1),\n",
    "                            activation_fn = tf.nn.relu)\n",
    "\n"
   ]
  },
  {
   "cell_type": "code",
   "execution_count": null,
   "metadata": {},
   "outputs": [],
   "source": [
    "out_wl = tf.Variable(tf.truncated_normal([192, 1]))\n",
    "out_bl = tf.Variable(tf.truncated_normal([1]))\n",
    "comb_out = tf.matmul(fc_2, out_wl) + out_bl\n",
    "pred = tf.sigmoid(comb_out)\n"
   ]
  },
  {
   "cell_type": "code",
   "execution_count": null,
   "metadata": {},
   "outputs": [],
   "source": [
    "lable_batch = tf.cast(lable_batch, tf.float32)\n",
    "loss = tf.reduce_mean(tf.nn.sigmoid_cross_entropy_with_logits(labels = next_element[1], logits = comb_out))\n",
    "train_step = tf.train.AdamOptimizer(0.0001).minimize(loss)\n",
    "predicted = tf.cast(pred >0.5, tf.float32)\n",
    "accuracy = tf.reduce_mean(tf.cast(tf.equal(predicted, lable_batch), tf.float32))\n"
   ]
  },
  {
   "cell_type": "code",
   "execution_count": null,
   "metadata": {},
   "outputs": [],
   "source": [
    "saver = tf.train.Saver()\n",
    "with tf.Session() as sess:\n",
    "    sess.run(tf.global_variables_initializer())\n",
    "    for step in range(0, 3000):\n",
    "        sess.run(train_step)\n",
    "        if(step %10 == 0):\n",
    "            res = sess.run([loss, accuracy])\n",
    "            print(step, res)\n",
    "            saver.save(sess, './lesson30', global_step = step)"
   ]
  },
  {
   "cell_type": "markdown",
   "metadata": {},
   "source": [
    "不是-1 的情况"
   ]
  },
  {
   "cell_type": "code",
   "execution_count": null,
   "metadata": {},
   "outputs": [],
   "source": [
    "step = 0\n",
    "saver = tf.train.Saver()\n",
    "with tf.Session() as sess:\n",
    "    sess.run(tf.global_variables_initializer())\n",
    "    while True:\n",
    "        try:\n",
    "            sess.run(train_step)\n",
    "            if(step %100 == 0):\n",
    "                res = sess.run([loss, accuracy])\n",
    "                print(step, res)\n",
    "                saver.save(sess, './lesson30', global_step = step)\n",
    "            step += 1\n",
    "        except tf.errors.OutOfRangeError:\n",
    "            saver.save(sess, './lesson30', global_step = step)\n",
    "            print('done!')\n",
    "            print(step)\n",
    "            break\n",
    "        step += 1"
   ]
  }
 ],
 "metadata": {
  "kernelspec": {
   "display_name": "Python 3",
   "language": "python",
   "name": "python3"
  },
  "language_info": {
   "codemirror_mode": {
    "name": "ipython",
    "version": 3
   },
   "file_extension": ".py",
   "mimetype": "text/x-python",
   "name": "python",
   "nbconvert_exporter": "python",
   "pygments_lexer": "ipython3",
   "version": "3.5.4"
  }
 },
 "nbformat": 4,
 "nbformat_minor": 2
}
