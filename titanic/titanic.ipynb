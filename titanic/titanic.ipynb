{
 "cells": [
  {
   "cell_type": "code",
   "execution_count": 1,
   "metadata": {},
   "outputs": [],
   "source": [
    "import pandas as pd\n",
    "import numpy as np"
   ]
  },
  {
   "cell_type": "code",
   "execution_count": 2,
   "metadata": {},
   "outputs": [],
   "source": [
    "data = pd.read_csv('./tt/train.csv')"
   ]
  },
  {
   "cell_type": "code",
   "execution_count": 3,
   "metadata": {},
   "outputs": [
    {
     "data": {
      "text/plain": [
       "Index(['PassengerId', 'Survived', 'Pclass', 'Name', 'Sex', 'Age', 'SibSp',\n",
       "       'Parch', 'Ticket', 'Fare', 'Cabin', 'Embarked'],\n",
       "      dtype='object')"
      ]
     },
     "execution_count": 3,
     "metadata": {},
     "output_type": "execute_result"
    }
   ],
   "source": [
    "data.columns"
   ]
  },
  {
   "cell_type": "code",
   "execution_count": 4,
   "metadata": {},
   "outputs": [],
   "source": [
    "data = data[['Survived', 'Pclass', 'Sex', 'Age', 'SibSp',\n",
    "       'Parch', 'Fare', 'Cabin', 'Embarked']]"
   ]
  },
  {
   "cell_type": "code",
   "execution_count": 5,
   "metadata": {},
   "outputs": [
    {
     "data": {
      "text/html": [
       "<div>\n",
       "<style scoped>\n",
       "    .dataframe tbody tr th:only-of-type {\n",
       "        vertical-align: middle;\n",
       "    }\n",
       "\n",
       "    .dataframe tbody tr th {\n",
       "        vertical-align: top;\n",
       "    }\n",
       "\n",
       "    .dataframe thead th {\n",
       "        text-align: right;\n",
       "    }\n",
       "</style>\n",
       "<table border=\"1\" class=\"dataframe\">\n",
       "  <thead>\n",
       "    <tr style=\"text-align: right;\">\n",
       "      <th></th>\n",
       "      <th>Survived</th>\n",
       "      <th>Pclass</th>\n",
       "      <th>Sex</th>\n",
       "      <th>Age</th>\n",
       "      <th>SibSp</th>\n",
       "      <th>Parch</th>\n",
       "      <th>Fare</th>\n",
       "      <th>Cabin</th>\n",
       "      <th>Embarked</th>\n",
       "    </tr>\n",
       "  </thead>\n",
       "  <tbody>\n",
       "    <tr>\n",
       "      <th>0</th>\n",
       "      <td>0</td>\n",
       "      <td>3</td>\n",
       "      <td>male</td>\n",
       "      <td>22.0</td>\n",
       "      <td>1</td>\n",
       "      <td>0</td>\n",
       "      <td>7.2500</td>\n",
       "      <td>NaN</td>\n",
       "      <td>S</td>\n",
       "    </tr>\n",
       "    <tr>\n",
       "      <th>1</th>\n",
       "      <td>1</td>\n",
       "      <td>1</td>\n",
       "      <td>female</td>\n",
       "      <td>38.0</td>\n",
       "      <td>1</td>\n",
       "      <td>0</td>\n",
       "      <td>71.2833</td>\n",
       "      <td>C85</td>\n",
       "      <td>C</td>\n",
       "    </tr>\n",
       "    <tr>\n",
       "      <th>2</th>\n",
       "      <td>1</td>\n",
       "      <td>3</td>\n",
       "      <td>female</td>\n",
       "      <td>26.0</td>\n",
       "      <td>0</td>\n",
       "      <td>0</td>\n",
       "      <td>7.9250</td>\n",
       "      <td>NaN</td>\n",
       "      <td>S</td>\n",
       "    </tr>\n",
       "  </tbody>\n",
       "</table>\n",
       "</div>"
      ],
      "text/plain": [
       "   Survived  Pclass     Sex   Age  SibSp  Parch     Fare Cabin Embarked\n",
       "0         0       3    male  22.0      1      0   7.2500   NaN        S\n",
       "1         1       1  female  38.0      1      0  71.2833   C85        C\n",
       "2         1       3  female  26.0      0      0   7.9250   NaN        S"
      ]
     },
     "execution_count": 5,
     "metadata": {},
     "output_type": "execute_result"
    }
   ],
   "source": [
    "data.head(3)"
   ]
  },
  {
   "cell_type": "code",
   "execution_count": 6,
   "metadata": {
    "scrolled": true
   },
   "outputs": [],
   "source": [
    "data['Age'] = data['Age'].fillna(data['Age'].mean())"
   ]
  },
  {
   "cell_type": "code",
   "execution_count": 7,
   "metadata": {},
   "outputs": [],
   "source": [
    "data['Cabin'] = pd.factorize(data.Cabin)[0]"
   ]
  },
  {
   "cell_type": "code",
   "execution_count": 8,
   "metadata": {},
   "outputs": [],
   "source": [
    "data.fillna(0, inplace = True)"
   ]
  },
  {
   "cell_type": "code",
   "execution_count": 9,
   "metadata": {
    "scrolled": true
   },
   "outputs": [],
   "source": [
    "data['Sex'] = [1 if x=='male' else 0 for x in data.Sex]"
   ]
  },
  {
   "cell_type": "code",
   "execution_count": 10,
   "metadata": {},
   "outputs": [],
   "source": [
    "data['p1'] = np.array(data['Pclass'] ==1).astype(np.int32)\n",
    "data['p2'] = np.array(data['Pclass'] ==2).astype(np.int32)\n",
    "data['p3'] = np.array(data['Pclass'] ==3).astype(np.int32)"
   ]
  },
  {
   "cell_type": "code",
   "execution_count": 11,
   "metadata": {},
   "outputs": [],
   "source": [
    "del data['Pclass']"
   ]
  },
  {
   "cell_type": "code",
   "execution_count": 12,
   "metadata": {},
   "outputs": [
    {
     "data": {
      "text/plain": [
       "array(['S', 'C', 'Q', 0], dtype=object)"
      ]
     },
     "execution_count": 12,
     "metadata": {},
     "output_type": "execute_result"
    }
   ],
   "source": [
    "data.Embarked.unique()"
   ]
  },
  {
   "cell_type": "code",
   "execution_count": 13,
   "metadata": {},
   "outputs": [],
   "source": [
    "data['e1'] = np.array(data['Embarked'] == 'S').astype(np.int32)\n",
    "data['e2'] = np.array(data['Embarked'] == 'C').astype(np.int32)\n",
    "data['e3'] = np.array(data['Embarked'] == 'Q').astype(np.int32)"
   ]
  },
  {
   "cell_type": "code",
   "execution_count": 14,
   "metadata": {},
   "outputs": [],
   "source": [
    "del data['Embarked']"
   ]
  },
  {
   "cell_type": "code",
   "execution_count": 15,
   "metadata": {},
   "outputs": [
    {
     "data": {
      "text/plain": [
       "dtype('float64')"
      ]
     },
     "execution_count": 15,
     "metadata": {},
     "output_type": "execute_result"
    }
   ],
   "source": [
    "data.values.dtype"
   ]
  },
  {
   "cell_type": "code",
   "execution_count": 16,
   "metadata": {},
   "outputs": [
    {
     "data": {
      "text/plain": [
       "Index(['Survived', 'Sex', 'Age', 'SibSp', 'Parch', 'Fare', 'Cabin', 'p1', 'p2',\n",
       "       'p3', 'e1', 'e2', 'e3'],\n",
       "      dtype='object')"
      ]
     },
     "execution_count": 16,
     "metadata": {},
     "output_type": "execute_result"
    }
   ],
   "source": [
    "data.columns"
   ]
  },
  {
   "cell_type": "code",
   "execution_count": 17,
   "metadata": {},
   "outputs": [],
   "source": [
    "data_train = data[['Sex', 'Age', 'SibSp', 'Parch', 'Fare', 'Cabin', 'p1', 'p2',\n",
    "       'p3', 'e1', 'e2', 'e3']]"
   ]
  },
  {
   "cell_type": "code",
   "execution_count": 18,
   "metadata": {},
   "outputs": [],
   "source": [
    "data_target = data['Survived'].values.reshape(len(data),1)\n"
   ]
  },
  {
   "cell_type": "code",
   "execution_count": 19,
   "metadata": {},
   "outputs": [
    {
     "data": {
      "text/plain": [
       "((891, 12), (891, 1))"
      ]
     },
     "execution_count": 19,
     "metadata": {},
     "output_type": "execute_result"
    }
   ],
   "source": [
    "np.shape(data_train), np.shape(data_target)"
   ]
  },
  {
   "cell_type": "code",
   "execution_count": 20,
   "metadata": {},
   "outputs": [
    {
     "name": "stderr",
     "output_type": "stream",
     "text": [
      "/anaconda3/envs/py35/lib/python3.5/importlib/_bootstrap.py:222: RuntimeWarning: compiletime version 3.6 of module 'tensorflow.python.framework.fast_tensor_util' does not match runtime version 3.5\n",
      "  return f(*args, **kwds)\n",
      "/anaconda3/envs/py35/lib/python3.5/site-packages/h5py/__init__.py:36: FutureWarning: Conversion of the second argument of issubdtype from `float` to `np.floating` is deprecated. In future, it will be treated as `np.float64 == np.dtype(float).type`.\n",
      "  from ._conv import register_converters as _register_converters\n"
     ]
    }
   ],
   "source": [
    "import tensorflow as tf"
   ]
  },
  {
   "cell_type": "code",
   "execution_count": 21,
   "metadata": {},
   "outputs": [],
   "source": [
    "x = tf.placeholder(\"float\", shape=[None,12])\n",
    "y = tf.placeholder(\"float\", shape=[None,1])"
   ]
  },
  {
   "cell_type": "code",
   "execution_count": 22,
   "metadata": {},
   "outputs": [],
   "source": [
    "weight = tf.Variable(tf.random_normal([12,1]))\n",
    "bias = tf.Variable(tf.random_normal([1]))\n",
    "output = tf.matmul(x, weight) + bias\n",
    "pred = tf.cast(tf.sigmoid(output)>0.5, tf.float32)"
   ]
  },
  {
   "cell_type": "code",
   "execution_count": 23,
   "metadata": {},
   "outputs": [],
   "source": [
    "loss = tf.reduce_mean(tf.nn.sigmoid_cross_entropy_with_logits(labels = y, logits = output))"
   ]
  },
  {
   "cell_type": "code",
   "execution_count": 24,
   "metadata": {},
   "outputs": [],
   "source": [
    "train_step = tf.train.GradientDescentOptimizer(0.003).minimize(loss)"
   ]
  },
  {
   "cell_type": "code",
   "execution_count": 25,
   "metadata": {},
   "outputs": [],
   "source": [
    "accuracy = tf.reduce_mean(tf.cast(tf.equal(pred,y), tf.float32))"
   ]
  },
  {
   "cell_type": "code",
   "execution_count": 26,
   "metadata": {},
   "outputs": [],
   "source": [
    "data_test = pd.read_csv('./tt/test.csv')\n",
    "data_test = data_test[['Pclass', 'Sex', 'Age', 'SibSp',\n",
    "       'Parch', 'Fare', 'Cabin', 'Embarked']]\n",
    "data_test['Age'] = data_test['Age'].fillna(data_test['Age'].mean())\n",
    "data_test['Cabin'] = pd.factorize(data_test.Cabin)[0]\n",
    "data_test['Sex'] = [1 if x=='male' else 0 for x in data_test.Sex]\n",
    "data_test.fillna(0, inplace = True)\n",
    "data_test['p1'] = np.array(data_test['Pclass'] ==1).astype(np.int32)\n",
    "data_test['p2'] = np.array(data_test['Pclass'] ==2).astype(np.int32)\n",
    "data_test['p3'] = np.array(data_test['Pclass'] ==3).astype(np.int32)\n",
    "data_test['e1'] = np.array(data_test['Embarked'] == 'S').astype(np.int32)\n",
    "data_test['e2'] = np.array(data_test['Embarked'] == 'C').astype(np.int32)\n",
    "data_test['e3'] = np.array(data_test['Embarked'] == 'Q').astype(np.int32)\n",
    "del data_test['Pclass']\n",
    "del data_test['Embarked']"
   ]
  },
  {
   "cell_type": "code",
   "execution_count": 27,
   "metadata": {},
   "outputs": [],
   "source": [
    "test_label = pd.read_csv('./tt/gender_submission.csv')\n",
    "test_label = np.reshape(test_label.Survived.values.astype(np.float32), (418,1))"
   ]
  },
  {
   "cell_type": "code",
   "execution_count": 28,
   "metadata": {},
   "outputs": [],
   "source": [
    "sess = tf.Session()\n",
    "sess.run(tf.global_variables_initializer())\n",
    "loss_train = []\n",
    "train_acc = []\n",
    "test_acc = []"
   ]
  },
  {
   "cell_type": "code",
   "execution_count": 29,
   "metadata": {},
   "outputs": [
    {
     "name": "stdout",
     "output_type": "stream",
     "text": [
      "7.3604326 0.57 0.5717703\n",
      "8.014492 0.44 0.45454547\n",
      "7.1409583 0.31 0.4617225\n",
      "5.1470814 0.36 0.43301436\n",
      "6.3511767 0.45 0.4784689\n",
      "5.792799 0.44 0.47368422\n",
      "4.681352 0.4 0.44258374\n",
      "5.842095 0.39 0.46411484\n",
      "3.0389767 0.48351648 0.42105263\n",
      "0.48493686 0.75 0.8779904\n",
      "0.4163903 0.79 0.8732057\n",
      "0.4867239 0.78 0.88755983\n",
      "0.44354805 0.82 0.88755983\n",
      "0.52813506 0.76 0.8755981\n",
      "0.4696804 0.76 0.8851675\n",
      "0.49193314 0.77 0.8779904\n",
      "0.45960158 0.83 0.8755981\n",
      "0.32401434 0.8681319 0.83732057\n",
      "0.44543365 0.79 0.9114832\n",
      "0.44734138 0.78 0.8971292\n",
      "0.4601239 0.8 0.8971292\n",
      "0.4851056 0.79 0.90430623\n",
      "0.4117188 0.83 0.8995215\n",
      "0.39182335 0.78 0.8827751\n",
      "0.36042503 0.86 0.8923445\n",
      "0.5273975 0.77 0.8827751\n",
      "0.4674853 0.8021978 0.8899522\n",
      "0.3866866 0.87 0.8684211\n",
      "0.46905473 0.79 0.8947368\n",
      "0.39205357 0.83 0.94736844\n",
      "0.52698064 0.78 0.94736844\n",
      "0.45487815 0.83 0.9569378\n",
      "0.51008093 0.76 0.9521531\n",
      "0.36122188 0.85 0.9569378\n",
      "0.38313925 0.84 0.9186603\n",
      "0.46178767 0.7582418 0.8779904\n",
      "0.4290183 0.79 0.90909094\n",
      "0.38088027 0.86 0.94258374\n",
      "0.50604784 0.78 0.92105263\n",
      "0.42591545 0.83 0.9138756\n",
      "0.44238362 0.81 0.8923445\n",
      "0.5280578 0.73 0.93779904\n",
      "0.37598786 0.84 0.95454544\n",
      "0.44755325 0.83 0.9354067\n",
      "0.45485118 0.7912088 0.93779904\n"
     ]
    }
   ],
   "source": [
    "for i in range(5000):\n",
    "    index = np.random.permutation(len(data_target))\n",
    "    data_train = np.array(data_train)[index]\n",
    "    data_target = np.array(data_target)[index]\n",
    "    for n in range(len(data_target)//100 + 1):\n",
    "        batch_xs = data_train[n*100:n*100 + 100]\n",
    "        batch_ys = data_target[n*100:n*100 + 100]\n",
    "        sess.run(train_step, feed_dict={x:batch_xs, y:batch_ys})\n",
    "        if i%1000 == 0:\n",
    "            loss_temp = sess.run(loss, feed_dict={x:batch_xs, y:batch_ys})\n",
    "            loss_train.append(loss_temp)\n",
    "            train_acc_temp = sess.run(accuracy, feed_dict={x:batch_xs, y:batch_ys})\n",
    "            train_acc.append(train_acc_temp)\n",
    "            test_acc_temp = sess.run(accuracy, feed_dict={x:data_test, y:test_label})\n",
    "            test_acc.append(test_acc_temp)\n",
    "            print(loss_temp, train_acc_temp, test_acc_temp)"
   ]
  },
  {
   "cell_type": "code",
   "execution_count": 30,
   "metadata": {},
   "outputs": [
    {
     "data": {
      "text/plain": [
       "array([[-2.7579787 ],\n",
       "       [-0.02792009],\n",
       "       [-0.33448917],\n",
       "       [-0.16113752],\n",
       "       [ 0.01580716],\n",
       "       [ 0.01695831],\n",
       "       [ 0.94773066],\n",
       "       [ 1.2085476 ],\n",
       "       [ 0.1693252 ],\n",
       "       [-0.52223164],\n",
       "       [ 0.05860335],\n",
       "       [-0.6202243 ]], dtype=float32)"
      ]
     },
     "execution_count": 30,
     "metadata": {},
     "output_type": "execute_result"
    }
   ],
   "source": [
    "sess.run(weight)"
   ]
  },
  {
   "cell_type": "code",
   "execution_count": 31,
   "metadata": {},
   "outputs": [
    {
     "data": {
      "text/plain": [
       "array([1.7377106], dtype=float32)"
      ]
     },
     "execution_count": 31,
     "metadata": {},
     "output_type": "execute_result"
    }
   ],
   "source": [
    "sess.run(bias)"
   ]
  },
  {
   "cell_type": "code",
   "execution_count": 32,
   "metadata": {},
   "outputs": [],
   "source": [
    "import matplotlib.pyplot as plt"
   ]
  },
  {
   "cell_type": "code",
   "execution_count": 33,
   "metadata": {},
   "outputs": [
    {
     "data": {
      "image/png": "[encoded data removed]",
      "text/plain": [
       "<matplotlib.figure.Figure at 0x181f732470>"
      ]
     },
     "metadata": {},
     "output_type": "display_data"
    }
   ],
   "source": [
    "plt.plot(loss_train, 'k-')\n",
    "plt.title('train loss')\n",
    "plt.show()"
   ]
  },
  {
   "cell_type": "code",
   "execution_count": 34,
   "metadata": {},
   "outputs": [
    {
     "data": {
      "image/png": "[encoded data removed]",
      "text/plain": [
       "<matplotlib.figure.Figure at 0x1825109b38>"
      ]
     },
     "metadata": {},
     "output_type": "display_data"
    }
   ],
   "source": [
    "plt.plot(train_acc,'b-', label ='train_acc')\n",
    "plt.plot(test_acc, 'r--', label = 'test_acc')\n",
    "plt.title('train and test accuracy')\n",
    "plt.legend()\n",
    "plt.show()"
   ]
  },
  {
   "cell_type": "code",
   "execution_count": null,
   "metadata": {},
   "outputs": [],
   "source": []
  }
 ],
 "metadata": {
  "kernelspec": {
   "display_name": "Python 3",
   "language": "python",
   "name": "python3"
  },
  "language_info": {
   "codemirror_mode": {
    "name": "ipython",
    "version": 3
   },
   "file_extension": ".py",
   "mimetype": "text/x-python",
   "name": "python",
   "nbconvert_exporter": "python",
   "pygments_lexer": "ipython3",
   "version": "3.5.4"
  }
 },
 "nbformat": 4,
 "nbformat_minor": 2
}
